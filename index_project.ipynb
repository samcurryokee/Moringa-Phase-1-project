{
 "cells": [
  {
   "cell_type": "markdown",
   "metadata": {},
   "source": [
    "# Analyzing Box Office Trends for Microsoft's New Movie Studio\n",
    "\n",
    "*Author:* Sammy Kariuki Kimani"
   ]
  },
  {
   "cell_type": "markdown",
   "metadata": {},
   "source": [
    "## Overview\n",
    "\n",
    "This project seeks to address the critical business problem of optimizing Microsoft's entry into the film industry by leveraging data-driven insights. I analyzed a comprehensive dataset comprising movie production budgets, genres, release dates, and box office revenues to unearth valuable patterns and correlations. Our methods encompassed exploratory data analysis and visualizations. Key findings include the significant influence of production budgets on box office success, genre-related revenue variations, and the impact of release timing on earnings. In response, we offer actionable recommendations to guide Microsoft's film production strategy, emphasizing prudent budget allocation, genre selection, and strategic release timing to maximize revenue potential and success in the highly competitive movie industry.\n"
   ]
  },
  {
   "cell_type": "markdown",
   "metadata": {},
   "source": [
    "## Business Problem\n",
    "\n",
    "Microsoft recognizes the growing trend of major companies entering the original video content market and is eager to establish its presence by launching a new movie studio. However, with limited experience in the film industry, Microsoft faces the challenge of determining what types of films are currently thriving at the box office. The goal is to gain a deep understanding of the factors driving box office success and translate these findings into actionable insights that the head of Microsoft's new movie studio can use to make informed decisions regarding the types of films to produce.\n",
    "\n",
    "### Data Analysis Questions\n",
    "\n",
    "  1. _Budget vs. Revenue Relationship:_ We aim to investigate how production budgets influence a movie's box office performance. Is there a discernible correlation between the size of the budget and box office revenue, and if so, what does this relationship entail?\n",
    "\n",
    "  2. _Genre-Based Revenue Performance:_ To identify the most lucrative film genres, we will analyze how different genres correlate with higher box office revenue. Which genres tend to generate the most revenue, and can these insights inform genre selection?\n",
    "\n",
    "  3. _Release Timing Impact:_ Timing is critical in the film industry. We will explore how release timing, including seasonal trends and holiday releases, affects box office revenue. What are the optimal times to release films for maximum financial success?\n",
    "\n",
    "\n",
    "  These data analysis questions hold immense importance for Microsoft's venture into the film industry. Understanding the budget-revenue relationship aids in strategic investment decisions, ensuring profitable returns. Identifying revenue-generating genres enables the creation of audience-centric content, increasing box office success chances. Additionally, insights into release timing enhance the development of a savvy release strategy. By addressing these questions, Microsoft gains a competitive edge, making informed choices and positioning itself for success in a dynamic and competitive film market.\n"
   ]
  },
  {
   "cell_type": "markdown",
   "metadata": {},
   "source": [
    "## Data Understanding\n",
    "\n",
    "The data used for this project comprises information related to movies and their box office performance.\n",
    "The data source for this project could be a combination of publicly available datasets from movie databases  which are The Movie Database(TMDB) and The Numbers(tn) budget data.These datasets may have been collected over time and can include information on a wide range of movies.\n",
    "\n",
    "This data encompasses attributes such as production budgets, genres, release dates, and worldwide box office earnings. The primary target variable is \"worldwide_gross,\" which signifies box office revenue. Key properties of these variables include numerical budgets, categorical genres, date-based release dates, and continuous revenue values.\n",
    "\n",
    "This data is instrumental in addressing questions related to budget-revenue relationships, genre-based revenue performance, and the impact of release timing on box office success.\n"
   ]
  },
  {
   "cell_type": "markdown",
   "metadata": {},
   "source": [
    "## Data Exploration and Preparation"
   ]
  },
  {
   "cell_type": "markdown",
   "metadata": {},
   "source": [
    "Import the necessary packages"
   ]
  },
  {
   "cell_type": "code",
   "execution_count": 2,
   "metadata": {},
   "outputs": [],
   "source": [
    "import pandas as pd\n",
    "import numpy as np\n",
    "import seaborn as sns\n",
    "import matplotlib.pyplot as plt \n",
    "%matplotlib inline"
   ]
  },
  {
   "cell_type": "markdown",
   "metadata": {},
   "source": [
    "Importing the necessary data for the analysis"
   ]
  },
  {
   "cell_type": "code",
   "execution_count": 41,
   "metadata": {},
   "outputs": [
    {
     "data": {
      "text/html": [
       "<div>\n",
       "<style scoped>\n",
       "    .dataframe tbody tr th:only-of-type {\n",
       "        vertical-align: middle;\n",
       "    }\n",
       "\n",
       "    .dataframe tbody tr th {\n",
       "        vertical-align: top;\n",
       "    }\n",
       "\n",
       "    .dataframe thead th {\n",
       "        text-align: right;\n",
       "    }\n",
       "</style>\n",
       "<table border=\"1\" class=\"dataframe\">\n",
       "  <thead>\n",
       "    <tr style=\"text-align: right;\">\n",
       "      <th></th>\n",
       "      <th>Unnamed: 0</th>\n",
       "      <th>genre_ids</th>\n",
       "      <th>id</th>\n",
       "      <th>original_language</th>\n",
       "      <th>original_title</th>\n",
       "      <th>popularity</th>\n",
       "      <th>release_date</th>\n",
       "      <th>title</th>\n",
       "      <th>vote_average</th>\n",
       "      <th>vote_count</th>\n",
       "    </tr>\n",
       "  </thead>\n",
       "  <tbody>\n",
       "    <tr>\n",
       "      <th>0</th>\n",
       "      <td>0</td>\n",
       "      <td>[12, 14, 10751]</td>\n",
       "      <td>12444</td>\n",
       "      <td>en</td>\n",
       "      <td>Harry Potter and the Deathly Hallows: Part 1</td>\n",
       "      <td>33.533</td>\n",
       "      <td>2010-11-19</td>\n",
       "      <td>Harry Potter and the Deathly Hallows: Part 1</td>\n",
       "      <td>7.7</td>\n",
       "      <td>10788</td>\n",
       "    </tr>\n",
       "    <tr>\n",
       "      <th>1</th>\n",
       "      <td>1</td>\n",
       "      <td>[14, 12, 16, 10751]</td>\n",
       "      <td>10191</td>\n",
       "      <td>en</td>\n",
       "      <td>How to Train Your Dragon</td>\n",
       "      <td>28.734</td>\n",
       "      <td>2010-03-26</td>\n",
       "      <td>How to Train Your Dragon</td>\n",
       "      <td>7.7</td>\n",
       "      <td>7610</td>\n",
       "    </tr>\n",
       "    <tr>\n",
       "      <th>2</th>\n",
       "      <td>2</td>\n",
       "      <td>[12, 28, 878]</td>\n",
       "      <td>10138</td>\n",
       "      <td>en</td>\n",
       "      <td>Iron Man 2</td>\n",
       "      <td>28.515</td>\n",
       "      <td>2010-05-07</td>\n",
       "      <td>Iron Man 2</td>\n",
       "      <td>6.8</td>\n",
       "      <td>12368</td>\n",
       "    </tr>\n",
       "    <tr>\n",
       "      <th>3</th>\n",
       "      <td>3</td>\n",
       "      <td>[16, 35, 10751]</td>\n",
       "      <td>862</td>\n",
       "      <td>en</td>\n",
       "      <td>Toy Story</td>\n",
       "      <td>28.005</td>\n",
       "      <td>1995-11-22</td>\n",
       "      <td>Toy Story</td>\n",
       "      <td>7.9</td>\n",
       "      <td>10174</td>\n",
       "    </tr>\n",
       "    <tr>\n",
       "      <th>4</th>\n",
       "      <td>4</td>\n",
       "      <td>[28, 878, 12]</td>\n",
       "      <td>27205</td>\n",
       "      <td>en</td>\n",
       "      <td>Inception</td>\n",
       "      <td>27.920</td>\n",
       "      <td>2010-07-16</td>\n",
       "      <td>Inception</td>\n",
       "      <td>8.3</td>\n",
       "      <td>22186</td>\n",
       "    </tr>\n",
       "  </tbody>\n",
       "</table>\n",
       "</div>"
      ],
      "text/plain": [
       "   Unnamed: 0            genre_ids     id original_language  \\\n",
       "0           0      [12, 14, 10751]  12444                en   \n",
       "1           1  [14, 12, 16, 10751]  10191                en   \n",
       "2           2        [12, 28, 878]  10138                en   \n",
       "3           3      [16, 35, 10751]    862                en   \n",
       "4           4        [28, 878, 12]  27205                en   \n",
       "\n",
       "                                 original_title  popularity release_date  \\\n",
       "0  Harry Potter and the Deathly Hallows: Part 1      33.533   2010-11-19   \n",
       "1                      How to Train Your Dragon      28.734   2010-03-26   \n",
       "2                                    Iron Man 2      28.515   2010-05-07   \n",
       "3                                     Toy Story      28.005   1995-11-22   \n",
       "4                                     Inception      27.920   2010-07-16   \n",
       "\n",
       "                                          title  vote_average  vote_count  \n",
       "0  Harry Potter and the Deathly Hallows: Part 1           7.7       10788  \n",
       "1                      How to Train Your Dragon           7.7        7610  \n",
       "2                                    Iron Man 2           6.8       12368  \n",
       "3                                     Toy Story           7.9       10174  \n",
       "4                                     Inception           8.3       22186  "
      ]
     },
     "execution_count": 41,
     "metadata": {},
     "output_type": "execute_result"
    }
   ],
   "source": [
    "tmdb = pd.read_csv(\"data/tmdb.movies.csv\",index_col=False)\n",
    "tmdb.head()"
   ]
  },
  {
   "cell_type": "code",
   "execution_count": 4,
   "metadata": {},
   "outputs": [
    {
     "data": {
      "text/html": [
       "<div>\n",
       "<style scoped>\n",
       "    .dataframe tbody tr th:only-of-type {\n",
       "        vertical-align: middle;\n",
       "    }\n",
       "\n",
       "    .dataframe tbody tr th {\n",
       "        vertical-align: top;\n",
       "    }\n",
       "\n",
       "    .dataframe thead th {\n",
       "        text-align: right;\n",
       "    }\n",
       "</style>\n",
       "<table border=\"1\" class=\"dataframe\">\n",
       "  <thead>\n",
       "    <tr style=\"text-align: right;\">\n",
       "      <th></th>\n",
       "      <th>genre_ids</th>\n",
       "      <th>id</th>\n",
       "      <th>original_language</th>\n",
       "      <th>original_title</th>\n",
       "      <th>popularity</th>\n",
       "      <th>release_date</th>\n",
       "      <th>title</th>\n",
       "      <th>vote_average</th>\n",
       "      <th>vote_count</th>\n",
       "    </tr>\n",
       "  </thead>\n",
       "  <tbody>\n",
       "    <tr>\n",
       "      <th>0</th>\n",
       "      <td>[12, 14, 10751]</td>\n",
       "      <td>12444</td>\n",
       "      <td>en</td>\n",
       "      <td>Harry Potter and the Deathly Hallows: Part 1</td>\n",
       "      <td>33.533</td>\n",
       "      <td>2010-11-19</td>\n",
       "      <td>Harry Potter and the Deathly Hallows: Part 1</td>\n",
       "      <td>7.7</td>\n",
       "      <td>10788</td>\n",
       "    </tr>\n",
       "    <tr>\n",
       "      <th>1</th>\n",
       "      <td>[14, 12, 16, 10751]</td>\n",
       "      <td>10191</td>\n",
       "      <td>en</td>\n",
       "      <td>How to Train Your Dragon</td>\n",
       "      <td>28.734</td>\n",
       "      <td>2010-03-26</td>\n",
       "      <td>How to Train Your Dragon</td>\n",
       "      <td>7.7</td>\n",
       "      <td>7610</td>\n",
       "    </tr>\n",
       "    <tr>\n",
       "      <th>2</th>\n",
       "      <td>[12, 28, 878]</td>\n",
       "      <td>10138</td>\n",
       "      <td>en</td>\n",
       "      <td>Iron Man 2</td>\n",
       "      <td>28.515</td>\n",
       "      <td>2010-05-07</td>\n",
       "      <td>Iron Man 2</td>\n",
       "      <td>6.8</td>\n",
       "      <td>12368</td>\n",
       "    </tr>\n",
       "    <tr>\n",
       "      <th>3</th>\n",
       "      <td>[16, 35, 10751]</td>\n",
       "      <td>862</td>\n",
       "      <td>en</td>\n",
       "      <td>Toy Story</td>\n",
       "      <td>28.005</td>\n",
       "      <td>1995-11-22</td>\n",
       "      <td>Toy Story</td>\n",
       "      <td>7.9</td>\n",
       "      <td>10174</td>\n",
       "    </tr>\n",
       "    <tr>\n",
       "      <th>4</th>\n",
       "      <td>[28, 878, 12]</td>\n",
       "      <td>27205</td>\n",
       "      <td>en</td>\n",
       "      <td>Inception</td>\n",
       "      <td>27.920</td>\n",
       "      <td>2010-07-16</td>\n",
       "      <td>Inception</td>\n",
       "      <td>8.3</td>\n",
       "      <td>22186</td>\n",
       "    </tr>\n",
       "  </tbody>\n",
       "</table>\n",
       "</div>"
      ],
      "text/plain": [
       "             genre_ids     id original_language  \\\n",
       "0      [12, 14, 10751]  12444                en   \n",
       "1  [14, 12, 16, 10751]  10191                en   \n",
       "2        [12, 28, 878]  10138                en   \n",
       "3      [16, 35, 10751]    862                en   \n",
       "4        [28, 878, 12]  27205                en   \n",
       "\n",
       "                                 original_title  popularity release_date  \\\n",
       "0  Harry Potter and the Deathly Hallows: Part 1      33.533   2010-11-19   \n",
       "1                      How to Train Your Dragon      28.734   2010-03-26   \n",
       "2                                    Iron Man 2      28.515   2010-05-07   \n",
       "3                                     Toy Story      28.005   1995-11-22   \n",
       "4                                     Inception      27.920   2010-07-16   \n",
       "\n",
       "                                          title  vote_average  vote_count  \n",
       "0  Harry Potter and the Deathly Hallows: Part 1           7.7       10788  \n",
       "1                      How to Train Your Dragon           7.7        7610  \n",
       "2                                    Iron Man 2           6.8       12368  \n",
       "3                                     Toy Story           7.9       10174  \n",
       "4                                     Inception           8.3       22186  "
      ]
     },
     "execution_count": 4,
     "metadata": {},
     "output_type": "execute_result"
    }
   ],
   "source": [
    "tmdb.drop(columns=tmdb.columns[0],inplace=True)\n",
    "tmdb.head()"
   ]
  },
  {
   "cell_type": "code",
   "execution_count": 5,
   "metadata": {},
   "outputs": [
    {
     "name": "stdout",
     "output_type": "stream",
     "text": [
      "<class 'pandas.core.frame.DataFrame'>\n",
      "RangeIndex: 26517 entries, 0 to 26516\n",
      "Data columns (total 9 columns):\n",
      " #   Column             Non-Null Count  Dtype  \n",
      "---  ------             --------------  -----  \n",
      " 0   genre_ids          26517 non-null  object \n",
      " 1   id                 26517 non-null  int64  \n",
      " 2   original_language  26517 non-null  object \n",
      " 3   original_title     26517 non-null  object \n",
      " 4   popularity         26517 non-null  float64\n",
      " 5   release_date       26517 non-null  object \n",
      " 6   title              26517 non-null  object \n",
      " 7   vote_average       26517 non-null  float64\n",
      " 8   vote_count         26517 non-null  int64  \n",
      "dtypes: float64(2), int64(2), object(5)\n",
      "memory usage: 1.8+ MB\n"
     ]
    },
    {
     "data": {
      "text/plain": [
       "{'shape': (26517, 9),\n",
       " 'describe':                   id    popularity  vote_average    vote_count\n",
       " count   26517.000000  26517.000000  26517.000000  26517.000000\n",
       " mean   295050.153260      3.130912      5.991281    194.224837\n",
       " std    153661.615648      4.355229      1.852946    960.961095\n",
       " min        27.000000      0.600000      0.000000      1.000000\n",
       " 25%    157851.000000      0.600000      5.000000      2.000000\n",
       " 50%    309581.000000      1.374000      6.000000      5.000000\n",
       " 75%    419542.000000      3.694000      7.000000     28.000000\n",
       " max    608444.000000     80.773000     10.000000  22186.000000,\n",
       " 'info': None}"
      ]
     },
     "execution_count": 5,
     "metadata": {},
     "output_type": "execute_result"
    }
   ],
   "source": [
    "#Function for checking the necessary info from a dataframe\n",
    "def check_dataframe_info(dataframe):\n",
    "    # Get the shape (dimensions) of the DataFrame\n",
    "    shape = dataframe.shape\n",
    "\n",
    "    # Get summary statistics for numeric columns\n",
    "    describe = dataframe.describe()\n",
    "\n",
    "    # Get information about data types and non-null counts\n",
    "    info = dataframe.info()\n",
    "\n",
    "    result = {\n",
    "        'shape': shape,\n",
    "        'describe': describe,\n",
    "        'info': info\n",
    "    }\n",
    "\n",
    "    return result\n",
    "  \n",
    "check_dataframe_info(tmdb)"
   ]
  },
  {
   "cell_type": "markdown",
   "metadata": {},
   "source": [
    "We now drop the columns that show the redundant information which in this case is the title column"
   ]
  },
  {
   "cell_type": "code",
   "execution_count": 6,
   "metadata": {},
   "outputs": [
    {
     "data": {
      "text/html": [
       "<div>\n",
       "<style scoped>\n",
       "    .dataframe tbody tr th:only-of-type {\n",
       "        vertical-align: middle;\n",
       "    }\n",
       "\n",
       "    .dataframe tbody tr th {\n",
       "        vertical-align: top;\n",
       "    }\n",
       "\n",
       "    .dataframe thead th {\n",
       "        text-align: right;\n",
       "    }\n",
       "</style>\n",
       "<table border=\"1\" class=\"dataframe\">\n",
       "  <thead>\n",
       "    <tr style=\"text-align: right;\">\n",
       "      <th></th>\n",
       "      <th>genre_ids</th>\n",
       "      <th>id</th>\n",
       "      <th>original_language</th>\n",
       "      <th>original_title</th>\n",
       "      <th>popularity</th>\n",
       "      <th>release_date</th>\n",
       "      <th>vote_average</th>\n",
       "      <th>vote_count</th>\n",
       "    </tr>\n",
       "  </thead>\n",
       "  <tbody>\n",
       "    <tr>\n",
       "      <th>0</th>\n",
       "      <td>[12, 14, 10751]</td>\n",
       "      <td>12444</td>\n",
       "      <td>en</td>\n",
       "      <td>Harry Potter and the Deathly Hallows: Part 1</td>\n",
       "      <td>33.533</td>\n",
       "      <td>2010-11-19</td>\n",
       "      <td>7.7</td>\n",
       "      <td>10788</td>\n",
       "    </tr>\n",
       "    <tr>\n",
       "      <th>1</th>\n",
       "      <td>[14, 12, 16, 10751]</td>\n",
       "      <td>10191</td>\n",
       "      <td>en</td>\n",
       "      <td>How to Train Your Dragon</td>\n",
       "      <td>28.734</td>\n",
       "      <td>2010-03-26</td>\n",
       "      <td>7.7</td>\n",
       "      <td>7610</td>\n",
       "    </tr>\n",
       "    <tr>\n",
       "      <th>2</th>\n",
       "      <td>[12, 28, 878]</td>\n",
       "      <td>10138</td>\n",
       "      <td>en</td>\n",
       "      <td>Iron Man 2</td>\n",
       "      <td>28.515</td>\n",
       "      <td>2010-05-07</td>\n",
       "      <td>6.8</td>\n",
       "      <td>12368</td>\n",
       "    </tr>\n",
       "    <tr>\n",
       "      <th>3</th>\n",
       "      <td>[16, 35, 10751]</td>\n",
       "      <td>862</td>\n",
       "      <td>en</td>\n",
       "      <td>Toy Story</td>\n",
       "      <td>28.005</td>\n",
       "      <td>1995-11-22</td>\n",
       "      <td>7.9</td>\n",
       "      <td>10174</td>\n",
       "    </tr>\n",
       "    <tr>\n",
       "      <th>4</th>\n",
       "      <td>[28, 878, 12]</td>\n",
       "      <td>27205</td>\n",
       "      <td>en</td>\n",
       "      <td>Inception</td>\n",
       "      <td>27.920</td>\n",
       "      <td>2010-07-16</td>\n",
       "      <td>8.3</td>\n",
       "      <td>22186</td>\n",
       "    </tr>\n",
       "  </tbody>\n",
       "</table>\n",
       "</div>"
      ],
      "text/plain": [
       "             genre_ids     id original_language  \\\n",
       "0      [12, 14, 10751]  12444                en   \n",
       "1  [14, 12, 16, 10751]  10191                en   \n",
       "2        [12, 28, 878]  10138                en   \n",
       "3      [16, 35, 10751]    862                en   \n",
       "4        [28, 878, 12]  27205                en   \n",
       "\n",
       "                                 original_title  popularity release_date  \\\n",
       "0  Harry Potter and the Deathly Hallows: Part 1      33.533   2010-11-19   \n",
       "1                      How to Train Your Dragon      28.734   2010-03-26   \n",
       "2                                    Iron Man 2      28.515   2010-05-07   \n",
       "3                                     Toy Story      28.005   1995-11-22   \n",
       "4                                     Inception      27.920   2010-07-16   \n",
       "\n",
       "   vote_average  vote_count  \n",
       "0           7.7       10788  \n",
       "1           7.7        7610  \n",
       "2           6.8       12368  \n",
       "3           7.9       10174  \n",
       "4           8.3       22186  "
      ]
     },
     "execution_count": 6,
     "metadata": {},
     "output_type": "execute_result"
    }
   ],
   "source": [
    "tmdb.drop(\"title\", axis=1,inplace=True)\n",
    "\n",
    "tmdb.head()\n"
   ]
  },
  {
   "cell_type": "markdown",
   "metadata": {},
   "source": [
    "After viewing the the data and seeing that it is fine we now proceed forward.\n",
    "We require another dataset from the number which enatails all the information concerning the financial aspects of movie production i.e production budget and worldwide gross revenue"
   ]
  },
  {
   "cell_type": "code",
   "execution_count": 40,
   "metadata": {},
   "outputs": [
    {
     "data": {
      "text/html": [
       "<div>\n",
       "<style scoped>\n",
       "    .dataframe tbody tr th:only-of-type {\n",
       "        vertical-align: middle;\n",
       "    }\n",
       "\n",
       "    .dataframe tbody tr th {\n",
       "        vertical-align: top;\n",
       "    }\n",
       "\n",
       "    .dataframe thead th {\n",
       "        text-align: right;\n",
       "    }\n",
       "</style>\n",
       "<table border=\"1\" class=\"dataframe\">\n",
       "  <thead>\n",
       "    <tr style=\"text-align: right;\">\n",
       "      <th></th>\n",
       "      <th>release_date</th>\n",
       "      <th>movie</th>\n",
       "      <th>production_budget</th>\n",
       "      <th>domestic_gross</th>\n",
       "      <th>worldwide_gross</th>\n",
       "    </tr>\n",
       "    <tr>\n",
       "      <th>id</th>\n",
       "      <th></th>\n",
       "      <th></th>\n",
       "      <th></th>\n",
       "      <th></th>\n",
       "      <th></th>\n",
       "    </tr>\n",
       "  </thead>\n",
       "  <tbody>\n",
       "    <tr>\n",
       "      <th>1</th>\n",
       "      <td>Dec 18, 2009</td>\n",
       "      <td>Avatar</td>\n",
       "      <td>$425,000,000</td>\n",
       "      <td>$760,507,625</td>\n",
       "      <td>$2,776,345,279</td>\n",
       "    </tr>\n",
       "    <tr>\n",
       "      <th>2</th>\n",
       "      <td>May 20, 2011</td>\n",
       "      <td>Pirates of the Caribbean: On Stranger Tides</td>\n",
       "      <td>$410,600,000</td>\n",
       "      <td>$241,063,875</td>\n",
       "      <td>$1,045,663,875</td>\n",
       "    </tr>\n",
       "    <tr>\n",
       "      <th>3</th>\n",
       "      <td>Jun 7, 2019</td>\n",
       "      <td>Dark Phoenix</td>\n",
       "      <td>$350,000,000</td>\n",
       "      <td>$42,762,350</td>\n",
       "      <td>$149,762,350</td>\n",
       "    </tr>\n",
       "    <tr>\n",
       "      <th>4</th>\n",
       "      <td>May 1, 2015</td>\n",
       "      <td>Avengers: Age of Ultron</td>\n",
       "      <td>$330,600,000</td>\n",
       "      <td>$459,005,868</td>\n",
       "      <td>$1,403,013,963</td>\n",
       "    </tr>\n",
       "    <tr>\n",
       "      <th>5</th>\n",
       "      <td>Dec 15, 2017</td>\n",
       "      <td>Star Wars Ep. VIII: The Last Jedi</td>\n",
       "      <td>$317,000,000</td>\n",
       "      <td>$620,181,382</td>\n",
       "      <td>$1,316,721,747</td>\n",
       "    </tr>\n",
       "  </tbody>\n",
       "</table>\n",
       "</div>"
      ],
      "text/plain": [
       "    release_date                                        movie  \\\n",
       "id                                                              \n",
       "1   Dec 18, 2009                                       Avatar   \n",
       "2   May 20, 2011  Pirates of the Caribbean: On Stranger Tides   \n",
       "3    Jun 7, 2019                                 Dark Phoenix   \n",
       "4    May 1, 2015                      Avengers: Age of Ultron   \n",
       "5   Dec 15, 2017            Star Wars Ep. VIII: The Last Jedi   \n",
       "\n",
       "   production_budget domestic_gross worldwide_gross  \n",
       "id                                                   \n",
       "1       $425,000,000   $760,507,625  $2,776,345,279  \n",
       "2       $410,600,000   $241,063,875  $1,045,663,875  \n",
       "3       $350,000,000    $42,762,350    $149,762,350  \n",
       "4       $330,600,000   $459,005,868  $1,403,013,963  \n",
       "5       $317,000,000   $620,181,382  $1,316,721,747  "
      ]
     },
     "execution_count": 40,
     "metadata": {},
     "output_type": "execute_result"
    }
   ],
   "source": [
    "movie_budget = pd.read_csv(\"data/tn.movie_budgets.csv\",index_col=\"id\")\n",
    "movie_budget.head()"
   ]
  },
  {
   "cell_type": "code",
   "execution_count": 8,
   "metadata": {},
   "outputs": [
    {
     "name": "stdout",
     "output_type": "stream",
     "text": [
      "<class 'pandas.core.frame.DataFrame'>\n",
      "Int64Index: 5782 entries, 1 to 82\n",
      "Data columns (total 5 columns):\n",
      " #   Column             Non-Null Count  Dtype \n",
      "---  ------             --------------  ----- \n",
      " 0   release_date       5782 non-null   object\n",
      " 1   movie              5782 non-null   object\n",
      " 2   production_budget  5782 non-null   object\n",
      " 3   domestic_gross     5782 non-null   object\n",
      " 4   worldwide_gross    5782 non-null   object\n",
      "dtypes: object(5)\n",
      "memory usage: 271.0+ KB\n"
     ]
    },
    {
     "data": {
      "text/plain": [
       "{'shape': (5782, 5),\n",
       " 'describe':         release_date movie production_budget domestic_gross worldwide_gross\n",
       " count           5782  5782              5782           5782            5782\n",
       " unique          2418  5698               509           5164            5356\n",
       " top     Dec 31, 2014  Home       $20,000,000             $0              $0\n",
       " freq              24     3               231            548             367,\n",
       " 'info': None}"
      ]
     },
     "execution_count": 8,
     "metadata": {},
     "output_type": "execute_result"
    }
   ],
   "source": [
    "check_dataframe_info(movie_budget)"
   ]
  },
  {
   "cell_type": "markdown",
   "metadata": {},
   "source": [
    "After viewing the necessary information from the data we need to convert the data types so that we can be able to analyse the data. "
   ]
  },
  {
   "cell_type": "code",
   "execution_count": 9,
   "metadata": {},
   "outputs": [
    {
     "name": "stdout",
     "output_type": "stream",
     "text": [
      "<class 'pandas.core.frame.DataFrame'>\n",
      "Int64Index: 5782 entries, 1 to 82\n",
      "Data columns (total 5 columns):\n",
      " #   Column             Non-Null Count  Dtype  \n",
      "---  ------             --------------  -----  \n",
      " 0   release_date       5782 non-null   object \n",
      " 1   movie              5782 non-null   object \n",
      " 2   production_budget  5782 non-null   float64\n",
      " 3   domestic_gross     5782 non-null   float64\n",
      " 4   worldwide_gross    5782 non-null   float64\n",
      "dtypes: float64(3), object(2)\n",
      "memory usage: 271.0+ KB\n"
     ]
    },
    {
     "data": {
      "text/plain": [
       "{'shape': (5782, 5),\n",
       " 'describe':        production_budget  domestic_gross  worldwide_gross\n",
       " count       5.782000e+03    5.782000e+03     5.782000e+03\n",
       " mean        3.158776e+07    4.187333e+07     9.148746e+07\n",
       " std         4.181208e+07    6.824060e+07     1.747200e+08\n",
       " min         1.100000e+03    0.000000e+00     0.000000e+00\n",
       " 25%         5.000000e+06    1.429534e+06     4.125415e+06\n",
       " 50%         1.700000e+07    1.722594e+07     2.798445e+07\n",
       " 75%         4.000000e+07    5.234866e+07     9.764584e+07\n",
       " max         4.250000e+08    9.366622e+08     2.776345e+09,\n",
       " 'info': None}"
      ]
     },
     "execution_count": 9,
     "metadata": {},
     "output_type": "execute_result"
    }
   ],
   "source": [
    "# Define the columns to process for conversion to float\n",
    "\n",
    "columns_to_convert = ['production_budget', 'domestic_gross', 'worldwide_gross']\n",
    "\n",
    "# Remove dollar signs and commas, and convert to float for each column\n",
    "for column in columns_to_convert:\n",
    "    movie_budget[column] = movie_budget[column].str.replace('[\\$,]', '', regex=True).astype(float)\n",
    "\n",
    "# Check DataFrame information\n",
    "check_dataframe_info(movie_budget)"
   ]
  },
  {
   "cell_type": "markdown",
   "metadata": {},
   "source": [
    "After converting the data types we now merge the DataFrames so that we can drop the columns and continue to clean it and ready it for analysis"
   ]
  },
  {
   "cell_type": "code",
   "execution_count": 10,
   "metadata": {},
   "outputs": [
    {
     "data": {
      "text/html": [
       "<div>\n",
       "<style scoped>\n",
       "    .dataframe tbody tr th:only-of-type {\n",
       "        vertical-align: middle;\n",
       "    }\n",
       "\n",
       "    .dataframe tbody tr th {\n",
       "        vertical-align: top;\n",
       "    }\n",
       "\n",
       "    .dataframe thead th {\n",
       "        text-align: right;\n",
       "    }\n",
       "</style>\n",
       "<table border=\"1\" class=\"dataframe\">\n",
       "  <thead>\n",
       "    <tr style=\"text-align: right;\">\n",
       "      <th></th>\n",
       "      <th>release_date_x</th>\n",
       "      <th>movie</th>\n",
       "      <th>production_budget</th>\n",
       "      <th>domestic_gross</th>\n",
       "      <th>worldwide_gross</th>\n",
       "      <th>genre_ids</th>\n",
       "      <th>id</th>\n",
       "      <th>original_language</th>\n",
       "      <th>original_title</th>\n",
       "      <th>popularity</th>\n",
       "      <th>release_date_y</th>\n",
       "      <th>vote_average</th>\n",
       "      <th>vote_count</th>\n",
       "    </tr>\n",
       "  </thead>\n",
       "  <tbody>\n",
       "    <tr>\n",
       "      <th>0</th>\n",
       "      <td>Dec 18, 2009</td>\n",
       "      <td>Avatar</td>\n",
       "      <td>425000000.0</td>\n",
       "      <td>760507625.0</td>\n",
       "      <td>2.776345e+09</td>\n",
       "      <td>[28, 12, 14, 878]</td>\n",
       "      <td>19995</td>\n",
       "      <td>en</td>\n",
       "      <td>Avatar</td>\n",
       "      <td>26.526</td>\n",
       "      <td>2009-12-18</td>\n",
       "      <td>7.4</td>\n",
       "      <td>18676</td>\n",
       "    </tr>\n",
       "    <tr>\n",
       "      <th>1</th>\n",
       "      <td>May 20, 2011</td>\n",
       "      <td>Pirates of the Caribbean: On Stranger Tides</td>\n",
       "      <td>410600000.0</td>\n",
       "      <td>241063875.0</td>\n",
       "      <td>1.045664e+09</td>\n",
       "      <td>[12, 28, 14]</td>\n",
       "      <td>1865</td>\n",
       "      <td>en</td>\n",
       "      <td>Pirates of the Caribbean: On Stranger Tides</td>\n",
       "      <td>30.579</td>\n",
       "      <td>2011-05-20</td>\n",
       "      <td>6.4</td>\n",
       "      <td>8571</td>\n",
       "    </tr>\n",
       "    <tr>\n",
       "      <th>2</th>\n",
       "      <td>May 1, 2015</td>\n",
       "      <td>Avengers: Age of Ultron</td>\n",
       "      <td>330600000.0</td>\n",
       "      <td>459005868.0</td>\n",
       "      <td>1.403014e+09</td>\n",
       "      <td>[28, 12, 878]</td>\n",
       "      <td>99861</td>\n",
       "      <td>en</td>\n",
       "      <td>Avengers: Age of Ultron</td>\n",
       "      <td>44.383</td>\n",
       "      <td>2015-05-01</td>\n",
       "      <td>7.3</td>\n",
       "      <td>13457</td>\n",
       "    </tr>\n",
       "    <tr>\n",
       "      <th>3</th>\n",
       "      <td>Apr 27, 2018</td>\n",
       "      <td>Avengers: Infinity War</td>\n",
       "      <td>300000000.0</td>\n",
       "      <td>678815482.0</td>\n",
       "      <td>2.048134e+09</td>\n",
       "      <td>[12, 28, 14]</td>\n",
       "      <td>299536</td>\n",
       "      <td>en</td>\n",
       "      <td>Avengers: Infinity War</td>\n",
       "      <td>80.773</td>\n",
       "      <td>2018-04-27</td>\n",
       "      <td>8.3</td>\n",
       "      <td>13948</td>\n",
       "    </tr>\n",
       "    <tr>\n",
       "      <th>4</th>\n",
       "      <td>Nov 17, 2017</td>\n",
       "      <td>Justice League</td>\n",
       "      <td>300000000.0</td>\n",
       "      <td>229024295.0</td>\n",
       "      <td>6.559452e+08</td>\n",
       "      <td>[28, 12, 14, 878]</td>\n",
       "      <td>141052</td>\n",
       "      <td>en</td>\n",
       "      <td>Justice League</td>\n",
       "      <td>34.953</td>\n",
       "      <td>2017-11-17</td>\n",
       "      <td>6.2</td>\n",
       "      <td>7510</td>\n",
       "    </tr>\n",
       "  </tbody>\n",
       "</table>\n",
       "</div>"
      ],
      "text/plain": [
       "  release_date_x                                        movie  \\\n",
       "0   Dec 18, 2009                                       Avatar   \n",
       "1   May 20, 2011  Pirates of the Caribbean: On Stranger Tides   \n",
       "2    May 1, 2015                      Avengers: Age of Ultron   \n",
       "3   Apr 27, 2018                       Avengers: Infinity War   \n",
       "4   Nov 17, 2017                               Justice League   \n",
       "\n",
       "   production_budget  domestic_gross  worldwide_gross          genre_ids  \\\n",
       "0        425000000.0     760507625.0     2.776345e+09  [28, 12, 14, 878]   \n",
       "1        410600000.0     241063875.0     1.045664e+09       [12, 28, 14]   \n",
       "2        330600000.0     459005868.0     1.403014e+09      [28, 12, 878]   \n",
       "3        300000000.0     678815482.0     2.048134e+09       [12, 28, 14]   \n",
       "4        300000000.0     229024295.0     6.559452e+08  [28, 12, 14, 878]   \n",
       "\n",
       "       id original_language                               original_title  \\\n",
       "0   19995                en                                       Avatar   \n",
       "1    1865                en  Pirates of the Caribbean: On Stranger Tides   \n",
       "2   99861                en                      Avengers: Age of Ultron   \n",
       "3  299536                en                       Avengers: Infinity War   \n",
       "4  141052                en                               Justice League   \n",
       "\n",
       "   popularity release_date_y  vote_average  vote_count  \n",
       "0      26.526     2009-12-18           7.4       18676  \n",
       "1      30.579     2011-05-20           6.4        8571  \n",
       "2      44.383     2015-05-01           7.3       13457  \n",
       "3      80.773     2018-04-27           8.3       13948  \n",
       "4      34.953     2017-11-17           6.2        7510  "
      ]
     },
     "execution_count": 10,
     "metadata": {},
     "output_type": "execute_result"
    }
   ],
   "source": [
    "merged_data = pd.merge(movie_budget,tmdb,left_on=\"movie\",right_on=\"original_title\",how=\"inner\")\n",
    "merged_data.head()"
   ]
  },
  {
   "cell_type": "code",
   "execution_count": 11,
   "metadata": {},
   "outputs": [
    {
     "name": "stdout",
     "output_type": "stream",
     "text": [
      "<class 'pandas.core.frame.DataFrame'>\n",
      "Int64Index: 2316 entries, 0 to 2315\n",
      "Data columns (total 13 columns):\n",
      " #   Column             Non-Null Count  Dtype  \n",
      "---  ------             --------------  -----  \n",
      " 0   release_date_x     2316 non-null   object \n",
      " 1   movie              2316 non-null   object \n",
      " 2   production_budget  2316 non-null   float64\n",
      " 3   domestic_gross     2316 non-null   float64\n",
      " 4   worldwide_gross    2316 non-null   float64\n",
      " 5   genre_ids          2316 non-null   object \n",
      " 6   id                 2316 non-null   int64  \n",
      " 7   original_language  2316 non-null   object \n",
      " 8   original_title     2316 non-null   object \n",
      " 9   popularity         2316 non-null   float64\n",
      " 10  release_date_y     2316 non-null   object \n",
      " 11  vote_average       2316 non-null   float64\n",
      " 12  vote_count         2316 non-null   int64  \n",
      "dtypes: float64(5), int64(2), object(6)\n",
      "memory usage: 253.3+ KB\n"
     ]
    },
    {
     "data": {
      "text/plain": [
       "{'shape': (2316, 13),\n",
       " 'describe':        production_budget  domestic_gross  worldwide_gross             id  \\\n",
       " count       2.316000e+03    2.316000e+03     2.316000e+03    2316.000000   \n",
       " mean        3.790108e+07    4.953869e+07     1.201667e+08  210410.569516   \n",
       " std         5.150964e+07    8.261483e+07     2.218496e+08  144548.546190   \n",
       " min         9.000000e+03    0.000000e+00     0.000000e+00      62.000000   \n",
       " 25%         5.000000e+06    7.788272e+05     3.224914e+06   71862.750000   \n",
       " 50%         1.900000e+07    2.015790e+07     3.722812e+07  208501.500000   \n",
       " 75%         4.650000e+07    5.830223e+07     1.248731e+08  330641.750000   \n",
       " max         4.250000e+08    7.605076e+08     2.776345e+09  587627.000000   \n",
       " \n",
       "         popularity  vote_average    vote_count  \n",
       " count  2316.000000   2316.000000   2316.000000  \n",
       " mean     10.685747      6.206261   1712.143351  \n",
       " std       8.244311      1.178079   2704.578576  \n",
       " min       0.600000      0.000000      1.000000  \n",
       " 25%       5.487000      5.600000     63.000000  \n",
       " 50%       9.506000      6.300000    615.000000  \n",
       " 75%      14.423750      6.900000   2100.500000  \n",
       " max      80.773000     10.000000  22186.000000  ,\n",
       " 'info': None}"
      ]
     },
     "execution_count": 11,
     "metadata": {},
     "output_type": "execute_result"
    }
   ],
   "source": [
    "check_dataframe_info(merged_data)"
   ]
  },
  {
   "cell_type": "code",
   "execution_count": 12,
   "metadata": {},
   "outputs": [
    {
     "data": {
      "text/html": [
       "<div>\n",
       "<style scoped>\n",
       "    .dataframe tbody tr th:only-of-type {\n",
       "        vertical-align: middle;\n",
       "    }\n",
       "\n",
       "    .dataframe tbody tr th {\n",
       "        vertical-align: top;\n",
       "    }\n",
       "\n",
       "    .dataframe thead th {\n",
       "        text-align: right;\n",
       "    }\n",
       "</style>\n",
       "<table border=\"1\" class=\"dataframe\">\n",
       "  <thead>\n",
       "    <tr style=\"text-align: right;\">\n",
       "      <th></th>\n",
       "      <th>movie</th>\n",
       "      <th>production_budget</th>\n",
       "      <th>domestic_gross</th>\n",
       "      <th>worldwide_gross</th>\n",
       "      <th>genre_ids</th>\n",
       "      <th>release_date_y</th>\n",
       "    </tr>\n",
       "  </thead>\n",
       "  <tbody>\n",
       "    <tr>\n",
       "      <th>0</th>\n",
       "      <td>Avatar</td>\n",
       "      <td>425000000.0</td>\n",
       "      <td>760507625.0</td>\n",
       "      <td>2.776345e+09</td>\n",
       "      <td>[28, 12, 14, 878]</td>\n",
       "      <td>2009-12-18</td>\n",
       "    </tr>\n",
       "    <tr>\n",
       "      <th>1</th>\n",
       "      <td>Pirates of the Caribbean: On Stranger Tides</td>\n",
       "      <td>410600000.0</td>\n",
       "      <td>241063875.0</td>\n",
       "      <td>1.045664e+09</td>\n",
       "      <td>[12, 28, 14]</td>\n",
       "      <td>2011-05-20</td>\n",
       "    </tr>\n",
       "    <tr>\n",
       "      <th>2</th>\n",
       "      <td>Avengers: Age of Ultron</td>\n",
       "      <td>330600000.0</td>\n",
       "      <td>459005868.0</td>\n",
       "      <td>1.403014e+09</td>\n",
       "      <td>[28, 12, 878]</td>\n",
       "      <td>2015-05-01</td>\n",
       "    </tr>\n",
       "    <tr>\n",
       "      <th>3</th>\n",
       "      <td>Avengers: Infinity War</td>\n",
       "      <td>300000000.0</td>\n",
       "      <td>678815482.0</td>\n",
       "      <td>2.048134e+09</td>\n",
       "      <td>[12, 28, 14]</td>\n",
       "      <td>2018-04-27</td>\n",
       "    </tr>\n",
       "    <tr>\n",
       "      <th>4</th>\n",
       "      <td>Justice League</td>\n",
       "      <td>300000000.0</td>\n",
       "      <td>229024295.0</td>\n",
       "      <td>6.559452e+08</td>\n",
       "      <td>[28, 12, 14, 878]</td>\n",
       "      <td>2017-11-17</td>\n",
       "    </tr>\n",
       "  </tbody>\n",
       "</table>\n",
       "</div>"
      ],
      "text/plain": [
       "                                         movie  production_budget  \\\n",
       "0                                       Avatar        425000000.0   \n",
       "1  Pirates of the Caribbean: On Stranger Tides        410600000.0   \n",
       "2                      Avengers: Age of Ultron        330600000.0   \n",
       "3                       Avengers: Infinity War        300000000.0   \n",
       "4                               Justice League        300000000.0   \n",
       "\n",
       "   domestic_gross  worldwide_gross          genre_ids release_date_y  \n",
       "0     760507625.0     2.776345e+09  [28, 12, 14, 878]     2009-12-18  \n",
       "1     241063875.0     1.045664e+09       [12, 28, 14]     2011-05-20  \n",
       "2     459005868.0     1.403014e+09      [28, 12, 878]     2015-05-01  \n",
       "3     678815482.0     2.048134e+09       [12, 28, 14]     2018-04-27  \n",
       "4     229024295.0     6.559452e+08  [28, 12, 14, 878]     2017-11-17  "
      ]
     },
     "execution_count": 12,
     "metadata": {},
     "output_type": "execute_result"
    }
   ],
   "source": [
    "#drop the columns that are not to be used\n",
    "\n",
    "merged_data.drop([\"original_title\",\"original_language\",\"id\",\"release_date_x\",\"vote_average\",\"vote_count\",\"popularity\"], axis=1,inplace=True)\n",
    "\n",
    "merged_data.head()"
   ]
  },
  {
   "cell_type": "code",
   "execution_count": 13,
   "metadata": {},
   "outputs": [
    {
     "name": "stdout",
     "output_type": "stream",
     "text": [
      "<class 'pandas.core.frame.DataFrame'>\n",
      "Int64Index: 2316 entries, 0 to 2315\n",
      "Data columns (total 6 columns):\n",
      " #   Column             Non-Null Count  Dtype  \n",
      "---  ------             --------------  -----  \n",
      " 0   movie              2316 non-null   object \n",
      " 1   production_budget  2316 non-null   float64\n",
      " 2   domestic_gross     2316 non-null   float64\n",
      " 3   worldwide_gross    2316 non-null   float64\n",
      " 4   genre_ids          2316 non-null   object \n",
      " 5   release_date_y     2316 non-null   object \n",
      "dtypes: float64(3), object(3)\n",
      "memory usage: 126.7+ KB\n"
     ]
    },
    {
     "data": {
      "text/plain": [
       "{'shape': (2316, 6),\n",
       " 'describe':        production_budget  domestic_gross  worldwide_gross\n",
       " count       2.316000e+03    2.316000e+03     2.316000e+03\n",
       " mean        3.790108e+07    4.953869e+07     1.201667e+08\n",
       " std         5.150964e+07    8.261483e+07     2.218496e+08\n",
       " min         9.000000e+03    0.000000e+00     0.000000e+00\n",
       " 25%         5.000000e+06    7.788272e+05     3.224914e+06\n",
       " 50%         1.900000e+07    2.015790e+07     3.722812e+07\n",
       " 75%         4.650000e+07    5.830223e+07     1.248731e+08\n",
       " max         4.250000e+08    7.605076e+08     2.776345e+09,\n",
       " 'info': None}"
      ]
     },
     "execution_count": 13,
     "metadata": {},
     "output_type": "execute_result"
    }
   ],
   "source": [
    "check_dataframe_info(merged_data)"
   ]
  },
  {
   "cell_type": "markdown",
   "metadata": {},
   "source": [
    "We need to check for a chance that there are duplicates in the movie name column because tht is where duplicates are likely to be found. From the output above we can see that there are no nuul values in the dataframe so we do not check for null values and concentrate on finding the duplcates"
   ]
  },
  {
   "cell_type": "code",
   "execution_count": 14,
   "metadata": {},
   "outputs": [
    {
     "data": {
      "text/plain": [
       "Home                            18\n",
       "Legend                          10\n",
       "The Gift                         8\n",
       "Eden                             7\n",
       "Truth or Dare                    5\n",
       "                                ..\n",
       "Dragonfly                        1\n",
       "Beginners                        1\n",
       "Monster Trucks                   1\n",
       "Fort McCoy                       1\n",
       "The Reluctant Fundamentalist     1\n",
       "Name: movie, Length: 1908, dtype: int64"
      ]
     },
     "execution_count": 14,
     "metadata": {},
     "output_type": "execute_result"
    }
   ],
   "source": [
    "merged_data[\"movie\"].value_counts()"
   ]
  },
  {
   "cell_type": "code",
   "execution_count": 15,
   "metadata": {},
   "outputs": [],
   "source": [
    "#removing the duplicates\n",
    "\n",
    "merged_data = merged_data.drop_duplicates(subset = \"movie\")"
   ]
  },
  {
   "cell_type": "code",
   "execution_count": 16,
   "metadata": {},
   "outputs": [
    {
     "data": {
      "text/plain": [
       "Escape from Tomorrow                              1\n",
       "Dwegons and Leprechauns                           1\n",
       "It's Kind of a Funny Story                        1\n",
       "Drive                                             1\n",
       "In the Heart of the Sea                           1\n",
       "                                                 ..\n",
       "The Perks of Being a Wallflower                   1\n",
       "Knight and Day                                    1\n",
       "Eye in the Sky                                    1\n",
       "For Greater Glory: The True Story of Cristiada    1\n",
       "The Reluctant Fundamentalist                      1\n",
       "Name: movie, Length: 1908, dtype: int64"
      ]
     },
     "execution_count": 16,
     "metadata": {},
     "output_type": "execute_result"
    }
   ],
   "source": [
    "merged_data[\"movie\"].value_counts()"
   ]
  },
  {
   "cell_type": "markdown",
   "metadata": {},
   "source": [
    "Now that we have been able to clean the data we can now be able to analyse the data since it is now clean. The objectives or data analysis questions to be answered are as follows."
   ]
  },
  {
   "cell_type": "markdown",
   "metadata": {},
   "source": [
    "## Q1. To analyse the Relationship between the budget and Revenue"
   ]
  },
  {
   "cell_type": "code",
   "execution_count": 17,
   "metadata": {},
   "outputs": [
    {
     "data": {
      "text/plain": [
       "Index(['movie', 'production_budget', 'domestic_gross', 'worldwide_gross',\n",
       "       'genre_ids', 'release_date_y'],\n",
       "      dtype='object')"
      ]
     },
     "execution_count": 17,
     "metadata": {},
     "output_type": "execute_result"
    }
   ],
   "source": [
    "merged_data.columns"
   ]
  },
  {
   "cell_type": "markdown",
   "metadata": {},
   "source": [
    "Now we extract the required data to a new table"
   ]
  },
  {
   "cell_type": "code",
   "execution_count": 18,
   "metadata": {},
   "outputs": [
    {
     "data": {
      "text/html": [
       "<div>\n",
       "<style scoped>\n",
       "    .dataframe tbody tr th:only-of-type {\n",
       "        vertical-align: middle;\n",
       "    }\n",
       "\n",
       "    .dataframe tbody tr th {\n",
       "        vertical-align: top;\n",
       "    }\n",
       "\n",
       "    .dataframe thead th {\n",
       "        text-align: right;\n",
       "    }\n",
       "</style>\n",
       "<table border=\"1\" class=\"dataframe\">\n",
       "  <thead>\n",
       "    <tr style=\"text-align: right;\">\n",
       "      <th></th>\n",
       "      <th>movie</th>\n",
       "      <th>production_budget</th>\n",
       "      <th>domestic_gross</th>\n",
       "      <th>worldwide_gross</th>\n",
       "    </tr>\n",
       "  </thead>\n",
       "  <tbody>\n",
       "    <tr>\n",
       "      <th>0</th>\n",
       "      <td>Avatar</td>\n",
       "      <td>425000000.0</td>\n",
       "      <td>760507625.0</td>\n",
       "      <td>2.776345e+09</td>\n",
       "    </tr>\n",
       "    <tr>\n",
       "      <th>1</th>\n",
       "      <td>Pirates of the Caribbean: On Stranger Tides</td>\n",
       "      <td>410600000.0</td>\n",
       "      <td>241063875.0</td>\n",
       "      <td>1.045664e+09</td>\n",
       "    </tr>\n",
       "    <tr>\n",
       "      <th>2</th>\n",
       "      <td>Avengers: Age of Ultron</td>\n",
       "      <td>330600000.0</td>\n",
       "      <td>459005868.0</td>\n",
       "      <td>1.403014e+09</td>\n",
       "    </tr>\n",
       "    <tr>\n",
       "      <th>3</th>\n",
       "      <td>Avengers: Infinity War</td>\n",
       "      <td>300000000.0</td>\n",
       "      <td>678815482.0</td>\n",
       "      <td>2.048134e+09</td>\n",
       "    </tr>\n",
       "    <tr>\n",
       "      <th>4</th>\n",
       "      <td>Justice League</td>\n",
       "      <td>300000000.0</td>\n",
       "      <td>229024295.0</td>\n",
       "      <td>6.559452e+08</td>\n",
       "    </tr>\n",
       "  </tbody>\n",
       "</table>\n",
       "</div>"
      ],
      "text/plain": [
       "                                         movie  production_budget  \\\n",
       "0                                       Avatar        425000000.0   \n",
       "1  Pirates of the Caribbean: On Stranger Tides        410600000.0   \n",
       "2                      Avengers: Age of Ultron        330600000.0   \n",
       "3                       Avengers: Infinity War        300000000.0   \n",
       "4                               Justice League        300000000.0   \n",
       "\n",
       "   domestic_gross  worldwide_gross  \n",
       "0     760507625.0     2.776345e+09  \n",
       "1     241063875.0     1.045664e+09  \n",
       "2     459005868.0     1.403014e+09  \n",
       "3     678815482.0     2.048134e+09  \n",
       "4     229024295.0     6.559452e+08  "
      ]
     },
     "execution_count": 18,
     "metadata": {},
     "output_type": "execute_result"
    }
   ],
   "source": [
    "budget_and_revenue = merged_data.copy()\n",
    "\n",
    "budget_and_revenue = budget_and_revenue[['movie', 'production_budget', 'domestic_gross', 'worldwide_gross']]\n",
    "\n",
    "budget_and_revenue.head()"
   ]
  },
  {
   "cell_type": "markdown",
   "metadata": {},
   "source": [
    "Next we use the user defined function check_dataframe_info() to be able to check the summary statistics for the data"
   ]
  },
  {
   "cell_type": "code",
   "execution_count": 19,
   "metadata": {},
   "outputs": [
    {
     "name": "stdout",
     "output_type": "stream",
     "text": [
      "<class 'pandas.core.frame.DataFrame'>\n",
      "Int64Index: 1908 entries, 0 to 2315\n",
      "Data columns (total 4 columns):\n",
      " #   Column             Non-Null Count  Dtype  \n",
      "---  ------             --------------  -----  \n",
      " 0   movie              1908 non-null   object \n",
      " 1   production_budget  1908 non-null   float64\n",
      " 2   domestic_gross     1908 non-null   float64\n",
      " 3   worldwide_gross    1908 non-null   float64\n",
      "dtypes: float64(3), object(1)\n",
      "memory usage: 74.5+ KB\n"
     ]
    },
    {
     "data": {
      "text/plain": [
       "{'shape': (1908, 4),\n",
       " 'describe':        production_budget  domestic_gross  worldwide_gross\n",
       " count       1.908000e+03    1.908000e+03     1.908000e+03\n",
       " mean        3.870225e+07    4.886837e+07     1.201366e+08\n",
       " std         5.224672e+07    8.110079e+07     2.235703e+08\n",
       " min         9.000000e+03    0.000000e+00     0.000000e+00\n",
       " 25%         5.000000e+06    8.308290e+05     3.168816e+06\n",
       " 50%         2.000000e+07    2.025614e+07     3.648161e+07\n",
       " 75%         5.000000e+07    5.845285e+07     1.266096e+08\n",
       " max         4.250000e+08    7.605076e+08     2.776345e+09,\n",
       " 'info': None}"
      ]
     },
     "execution_count": 19,
     "metadata": {},
     "output_type": "execute_result"
    }
   ],
   "source": [
    "\n",
    "check_dataframe_info(budget_and_revenue)"
   ]
  },
  {
   "cell_type": "markdown",
   "metadata": {},
   "source": [
    "Since we are checking the total revenue and budget we need to calculate the profit and the total gross\n"
   ]
  },
  {
   "cell_type": "code",
   "execution_count": 20,
   "metadata": {},
   "outputs": [
    {
     "name": "stdout",
     "output_type": "stream",
     "text": [
      "<class 'pandas.core.frame.DataFrame'>\n",
      "Int64Index: 1908 entries, 0 to 2315\n",
      "Data columns (total 6 columns):\n",
      " #   Column             Non-Null Count  Dtype  \n",
      "---  ------             --------------  -----  \n",
      " 0   movie              1908 non-null   object \n",
      " 1   production_budget  1908 non-null   float64\n",
      " 2   domestic_gross     1908 non-null   float64\n",
      " 3   worldwide_gross    1908 non-null   float64\n",
      " 4   Profit             1908 non-null   float64\n",
      " 5   Foreign_gross      1908 non-null   float64\n",
      "dtypes: float64(5), object(1)\n",
      "memory usage: 104.3+ KB\n"
     ]
    },
    {
     "data": {
      "text/plain": [
       "{'shape': (1908, 6),\n",
       " 'describe':        production_budget  domestic_gross  worldwide_gross        Profit  \\\n",
       " count       1.908000e+03    1.908000e+03     1.908000e+03  1.908000e+03   \n",
       " mean        3.870225e+07    4.886837e+07     1.201366e+08  8.143435e+07   \n",
       " std         5.224672e+07    8.110079e+07     2.235703e+08  1.844095e+08   \n",
       " min         9.000000e+03    0.000000e+00     0.000000e+00 -1.104502e+08   \n",
       " 25%         5.000000e+06    8.308290e+05     3.168816e+06 -1.743919e+06   \n",
       " 50%         2.000000e+07    2.025614e+07     3.648161e+07  1.353161e+07   \n",
       " 75%         5.000000e+07    5.845285e+07     1.266096e+08  7.757087e+07   \n",
       " max         4.250000e+08    7.605076e+08     2.776345e+09  2.351345e+09   \n",
       " \n",
       "        Foreign_gross  \n",
       " count   1.908000e+03  \n",
       " mean    7.126822e+07  \n",
       " std     1.492079e+08  \n",
       " min     0.000000e+00  \n",
       " 25%     3.651838e+05  \n",
       " 50%     1.338738e+07  \n",
       " 75%     6.437166e+07  \n",
       " max     2.015838e+09  ,\n",
       " 'info': None}"
      ]
     },
     "execution_count": 20,
     "metadata": {},
     "output_type": "execute_result"
    }
   ],
   "source": [
    "# Create a new column 'Profit' by subtracting 'production_budget' from 'Worldwide Gross'\n",
    "budget_and_revenue['Profit'] = budget_and_revenue['worldwide_gross'] - budget_and_revenue['production_budget']\n",
    "# Create a new column 'Foreign_gross' by subtracting 'production_budget' from 'Worldwide Gross'\n",
    "budget_and_revenue['Foreign_gross'] = budget_and_revenue['worldwide_gross'] - budget_and_revenue['domestic_gross']\n",
    "\n",
    "check_dataframe_info(budget_and_revenue)\n"
   ]
  },
  {
   "cell_type": "markdown",
   "metadata": {},
   "source": [
    "### Data Vizualization\n",
    "Now we check how the budget is related to the total gross and also how it is related to the individual gross for both the domestic and foreign gross"
   ]
  },
  {
   "cell_type": "code",
   "execution_count": 21,
   "metadata": {},
   "outputs": [
    {
     "data": {
      "image/png": "[encoded data removed]",
      "text/plain": [
       "<Figure size 864x576 with 4 Axes>"
      ]
     },
     "metadata": {
      "needs_background": "light"
     },
     "output_type": "display_data"
    }
   ],
   "source": [
    "# Create a figure and an array of subplots (2 rows, 2 columns)\n",
    "fig, axs = plt.subplots(2, 2, figsize=(12, 8))\n",
    "\n",
    "# Plot a histogram for production budgets\n",
    "axs[0, 0].hist(budget_and_revenue['production_budget'], bins=20, color='blue', alpha=0.7)\n",
    "axs[0, 0].set_title('Distribution of Production Budgets')\n",
    "axs[0, 0].set_xlabel('Production Budget')\n",
    "axs[0, 0].set_ylabel('Frequency')\n",
    "axs[0, 0].grid(True)\n",
    "\n",
    "# Plot a histogram for worldwide gross revenues\n",
    "axs[0, 1].hist(budget_and_revenue['worldwide_gross'], bins=20, color='green', alpha=0.7)\n",
    "axs[0, 1].set_title('Distribution of Worldwide Gross Revenues')\n",
    "axs[0, 1].set_xlabel('Worldwide Gross Revenue')\n",
    "axs[0, 1].set_ylabel('Frequency')\n",
    "axs[0, 1].grid(True)\n",
    "\n",
    "# Plot a histogram for domestic gross revenues\n",
    "axs[1, 0].hist(budget_and_revenue['domestic_gross'], bins=20, color='purple', alpha=0.7)\n",
    "axs[1, 0].set_title('Distribution of Domestic Gross Revenues')\n",
    "axs[1, 0].set_xlabel('Domestic Gross Revenue')\n",
    "axs[1, 0].set_ylabel('Frequency')\n",
    "axs[1, 0].grid(True)\n",
    "\n",
    "# Plot a histogram for profits\n",
    "axs[1, 1].hist(budget_and_revenue['Profit'], bins=20, color='orange', alpha=0.7)\n",
    "axs[1, 1].set_title('Distribution of Profits')\n",
    "axs[1, 1].set_xlabel('Profit')\n",
    "axs[1, 1].set_ylabel('Frequency')\n",
    "axs[1, 1].grid(True)\n",
    "\n",
    "# Adjust spacing between subplots\n",
    "plt.tight_layout()\n",
    "\n",
    "fig.savefig(\"images/histogram.png\")\n",
    "# Show the plots\n",
    "plt.show()\n"
   ]
  },
  {
   "cell_type": "markdown",
   "metadata": {},
   "source": [
    "In the Histograms provided it clearly shows that the data is skewed to the right so a positive skew since most of the values are concentrated to the right side"
   ]
  },
  {
   "cell_type": "markdown",
   "metadata": {},
   "source": [
    "Now we want to check the relationship between the budget and revenue and also check how prfitable the movie industry is. Here we find correlation of the different revenues with respect to production budget so as to answer the research questions.  "
   ]
  },
  {
   "cell_type": "code",
   "execution_count": 22,
   "metadata": {},
   "outputs": [
    {
     "data": {
      "text/plain": [
       "{'domestic_gross': 0.7319314525190813,\n",
       " 'worldwide_gross': 0.8007374612067043,\n",
       " 'Profit': 0.6874612731834285,\n",
       " 'Foreign_gross': 0.8019741985894427}"
      ]
     },
     "execution_count": 22,
     "metadata": {},
     "output_type": "execute_result"
    }
   ],
   "source": [
    "\n",
    "# Calculate correlation between production budget and different revenue metrics\n",
    "revenue_columns = ['domestic_gross', 'worldwide_gross', 'Profit','Foreign_gross']\n",
    "\n",
    "\n",
    "# Create a dictionary to store correlations\n",
    "correlations = {}\n",
    "\n",
    "# Calculate correlations for each revenue metric\n",
    "for column in revenue_columns:\n",
    "    correlation = budget_and_revenue['production_budget'].corr(budget_and_revenue[column])\n",
    "    correlations[column] = correlation\n",
    "    \n",
    "correlations"
   ]
  },
  {
   "cell_type": "markdown",
   "metadata": {},
   "source": [
    "Plotting the correlation information in the scatter plot and vizualizing it is as follows"
   ]
  },
  {
   "cell_type": "code",
   "execution_count": 23,
   "metadata": {},
   "outputs": [
    {
     "data": {
      "image/png": "[encoded data removed]",
      "text/plain": [
       "<Figure size 864x432 with 4 Axes>"
      ]
     },
     "metadata": {
      "needs_background": "light"
     },
     "output_type": "display_data"
    }
   ],
   "source": [
    "\n",
    "# Create scatterplots to visualize the relationships\n",
    "plt.figure(figsize=(12, 6))\n",
    "\n",
    "for i, column in enumerate(revenue_columns, 1):\n",
    "    plt.subplot(2, 2, i)\n",
    "    plt.scatter(budget_and_revenue['production_budget'], budget_and_revenue[column], alpha=0.5)\n",
    "    plt.title(f'Production Budget vs. {column} (Correlation: {correlations[column]:.2f})')\n",
    "    plt.xlabel('Production Budget')\n",
    "    plt.ylabel(column)\n",
    "\n",
    "plt.tight_layout()\n",
    "\n",
    "plt.savefig(\"images/scatterplot.png\")\n",
    "\n",
    "plt.show()\n"
   ]
  },
  {
   "cell_type": "markdown",
   "metadata": {},
   "source": [
    "The interpretation of the information on the plot is as follows below"
   ]
  },
  {
   "cell_type": "markdown",
   "metadata": {},
   "source": [
    "1. **Correlation between Production Budget and Domestic Gross (0.73):**\n",
    "\n",
    "A correlation coefficient of 0.73 indicates a strong positive linear relationship between the production budget and domestic gross.\n",
    "This means that as the production budget of a movie increases, the domestic gross tends to increase as well. In other words, movies with higher budgets tend to earn more at the domestic box office.\n",
    "\n",
    "2. **Correlation between Production Budget and Wordlwide Gross (0.73):**\n",
    "\n",
    "A correlation coefficient of 0.80 indicates a strong positive linear relationship between the production budget and worldwide gross.\n",
    "This means that as the production budget of a movie increases, the worldwide gross tends to increase as well. Movies with higher budgets tend to have higher worldwide box office earnings.\n",
    "\n",
    "3. **Correlation between Production Budget and Profit (0.69):**\n",
    "\n",
    "A correlation coefficient of 0.69 indicates a strong positive linear relationship between the production budget and profit.\n",
    "This means that as the production budget of a movie increases, the profit tends to increase as well. Movies with higher budgets tend to generate more profit.\n",
    "\n",
    "4. **Correlation between Production Budget and Foreign Gross (0.80):**\n",
    "\n",
    "A correlation coefficient of 0.80 indicates a strong positive linear relationship between the production budget and foreign gross.\n",
    "This means that as the production budget of a movie increases, the foreign gross tends to increase as well. Movies with higher budgets tend to have higher worldwide box office earnings."
   ]
  },
  {
   "cell_type": "markdown",
   "metadata": {},
   "source": [
    " ## Q2: To Explore Genre-Based Revenue Performance\n",
    "\n",
    " Here we examine how different movie genres perform with box office revenue.This will help us to be able to see which other factors influence the revenue apart budget which was demonstrated above\n",
    "\n"
   ]
  },
  {
   "cell_type": "code",
   "execution_count": 24,
   "metadata": {},
   "outputs": [
    {
     "data": {
      "text/plain": [
       "Index(['movie', 'production_budget', 'domestic_gross', 'worldwide_gross',\n",
       "       'genre_ids', 'release_date_y'],\n",
       "      dtype='object')"
      ]
     },
     "execution_count": 24,
     "metadata": {},
     "output_type": "execute_result"
    }
   ],
   "source": [
    "#check the columns so as to see the names of the required columns\n",
    "merged_data.columns"
   ]
  },
  {
   "cell_type": "code",
   "execution_count": 25,
   "metadata": {},
   "outputs": [
    {
     "data": {
      "text/html": [
       "<div>\n",
       "<style scoped>\n",
       "    .dataframe tbody tr th:only-of-type {\n",
       "        vertical-align: middle;\n",
       "    }\n",
       "\n",
       "    .dataframe tbody tr th {\n",
       "        vertical-align: top;\n",
       "    }\n",
       "\n",
       "    .dataframe thead th {\n",
       "        text-align: right;\n",
       "    }\n",
       "</style>\n",
       "<table border=\"1\" class=\"dataframe\">\n",
       "  <thead>\n",
       "    <tr style=\"text-align: right;\">\n",
       "      <th></th>\n",
       "      <th>movie</th>\n",
       "      <th>genre_ids</th>\n",
       "      <th>worldwide_gross</th>\n",
       "      <th>production_budget</th>\n",
       "    </tr>\n",
       "  </thead>\n",
       "  <tbody>\n",
       "    <tr>\n",
       "      <th>0</th>\n",
       "      <td>Avatar</td>\n",
       "      <td>[28, 12, 14, 878]</td>\n",
       "      <td>2.776345e+09</td>\n",
       "      <td>425000000.0</td>\n",
       "    </tr>\n",
       "    <tr>\n",
       "      <th>1</th>\n",
       "      <td>Pirates of the Caribbean: On Stranger Tides</td>\n",
       "      <td>[12, 28, 14]</td>\n",
       "      <td>1.045664e+09</td>\n",
       "      <td>410600000.0</td>\n",
       "    </tr>\n",
       "    <tr>\n",
       "      <th>2</th>\n",
       "      <td>Avengers: Age of Ultron</td>\n",
       "      <td>[28, 12, 878]</td>\n",
       "      <td>1.403014e+09</td>\n",
       "      <td>330600000.0</td>\n",
       "    </tr>\n",
       "    <tr>\n",
       "      <th>3</th>\n",
       "      <td>Avengers: Infinity War</td>\n",
       "      <td>[12, 28, 14]</td>\n",
       "      <td>2.048134e+09</td>\n",
       "      <td>300000000.0</td>\n",
       "    </tr>\n",
       "    <tr>\n",
       "      <th>4</th>\n",
       "      <td>Justice League</td>\n",
       "      <td>[28, 12, 14, 878]</td>\n",
       "      <td>6.559452e+08</td>\n",
       "      <td>300000000.0</td>\n",
       "    </tr>\n",
       "  </tbody>\n",
       "</table>\n",
       "</div>"
      ],
      "text/plain": [
       "                                         movie          genre_ids  \\\n",
       "0                                       Avatar  [28, 12, 14, 878]   \n",
       "1  Pirates of the Caribbean: On Stranger Tides       [12, 28, 14]   \n",
       "2                      Avengers: Age of Ultron      [28, 12, 878]   \n",
       "3                       Avengers: Infinity War       [12, 28, 14]   \n",
       "4                               Justice League  [28, 12, 14, 878]   \n",
       "\n",
       "   worldwide_gross  production_budget  \n",
       "0     2.776345e+09        425000000.0  \n",
       "1     1.045664e+09        410600000.0  \n",
       "2     1.403014e+09        330600000.0  \n",
       "3     2.048134e+09        300000000.0  \n",
       "4     6.559452e+08        300000000.0  "
      ]
     },
     "execution_count": 25,
     "metadata": {},
     "output_type": "execute_result"
    }
   ],
   "source": [
    "# Extract the required Data from the columns\n",
    "genre_and_revenue = merged_data.copy()\n",
    "\n",
    "genre_and_revenue = genre_and_revenue[['movie',\"genre_ids\" ,'worldwide_gross',\"production_budget\"]]\n",
    "\n",
    "genre_and_revenue.head()"
   ]
  },
  {
   "cell_type": "code",
   "execution_count": 26,
   "metadata": {},
   "outputs": [
    {
     "data": {
      "text/html": [
       "<div>\n",
       "<style scoped>\n",
       "    .dataframe tbody tr th:only-of-type {\n",
       "        vertical-align: middle;\n",
       "    }\n",
       "\n",
       "    .dataframe tbody tr th {\n",
       "        vertical-align: top;\n",
       "    }\n",
       "\n",
       "    .dataframe thead th {\n",
       "        text-align: right;\n",
       "    }\n",
       "</style>\n",
       "<table border=\"1\" class=\"dataframe\">\n",
       "  <thead>\n",
       "    <tr style=\"text-align: right;\">\n",
       "      <th></th>\n",
       "      <th>movie</th>\n",
       "      <th>genre_ids</th>\n",
       "      <th>worldwide_gross</th>\n",
       "      <th>production_budget</th>\n",
       "      <th>Profit</th>\n",
       "    </tr>\n",
       "  </thead>\n",
       "  <tbody>\n",
       "    <tr>\n",
       "      <th>0</th>\n",
       "      <td>Avatar</td>\n",
       "      <td>[28, 12, 14, 878]</td>\n",
       "      <td>2.776345e+09</td>\n",
       "      <td>425000000.0</td>\n",
       "      <td>2.351345e+09</td>\n",
       "    </tr>\n",
       "    <tr>\n",
       "      <th>1</th>\n",
       "      <td>Pirates of the Caribbean: On Stranger Tides</td>\n",
       "      <td>[12, 28, 14]</td>\n",
       "      <td>1.045664e+09</td>\n",
       "      <td>410600000.0</td>\n",
       "      <td>6.350639e+08</td>\n",
       "    </tr>\n",
       "    <tr>\n",
       "      <th>2</th>\n",
       "      <td>Avengers: Age of Ultron</td>\n",
       "      <td>[28, 12, 878]</td>\n",
       "      <td>1.403014e+09</td>\n",
       "      <td>330600000.0</td>\n",
       "      <td>1.072414e+09</td>\n",
       "    </tr>\n",
       "    <tr>\n",
       "      <th>3</th>\n",
       "      <td>Avengers: Infinity War</td>\n",
       "      <td>[12, 28, 14]</td>\n",
       "      <td>2.048134e+09</td>\n",
       "      <td>300000000.0</td>\n",
       "      <td>1.748134e+09</td>\n",
       "    </tr>\n",
       "    <tr>\n",
       "      <th>4</th>\n",
       "      <td>Justice League</td>\n",
       "      <td>[28, 12, 14, 878]</td>\n",
       "      <td>6.559452e+08</td>\n",
       "      <td>300000000.0</td>\n",
       "      <td>3.559452e+08</td>\n",
       "    </tr>\n",
       "  </tbody>\n",
       "</table>\n",
       "</div>"
      ],
      "text/plain": [
       "                                         movie          genre_ids  \\\n",
       "0                                       Avatar  [28, 12, 14, 878]   \n",
       "1  Pirates of the Caribbean: On Stranger Tides       [12, 28, 14]   \n",
       "2                      Avengers: Age of Ultron      [28, 12, 878]   \n",
       "3                       Avengers: Infinity War       [12, 28, 14]   \n",
       "4                               Justice League  [28, 12, 14, 878]   \n",
       "\n",
       "   worldwide_gross  production_budget        Profit  \n",
       "0     2.776345e+09        425000000.0  2.351345e+09  \n",
       "1     1.045664e+09        410600000.0  6.350639e+08  \n",
       "2     1.403014e+09        330600000.0  1.072414e+09  \n",
       "3     2.048134e+09        300000000.0  1.748134e+09  \n",
       "4     6.559452e+08        300000000.0  3.559452e+08  "
      ]
     },
     "execution_count": 26,
     "metadata": {},
     "output_type": "execute_result"
    }
   ],
   "source": [
    "#create the profit column\n",
    "genre_and_revenue['Profit'] = genre_and_revenue['worldwide_gross'] - genre_and_revenue['production_budget']\n",
    "\n",
    "genre_and_revenue.head()\n"
   ]
  },
  {
   "cell_type": "code",
   "execution_count": 27,
   "metadata": {},
   "outputs": [
    {
     "name": "stdout",
     "output_type": "stream",
     "text": [
      "<class 'pandas.core.frame.DataFrame'>\n",
      "Int64Index: 1908 entries, 0 to 2315\n",
      "Data columns (total 5 columns):\n",
      " #   Column             Non-Null Count  Dtype  \n",
      "---  ------             --------------  -----  \n",
      " 0   movie              1908 non-null   object \n",
      " 1   genre_ids          1908 non-null   object \n",
      " 2   worldwide_gross    1908 non-null   float64\n",
      " 3   production_budget  1908 non-null   float64\n",
      " 4   Profit             1908 non-null   float64\n",
      "dtypes: float64(3), object(2)\n",
      "memory usage: 89.4+ KB\n"
     ]
    },
    {
     "data": {
      "text/plain": [
       "{'shape': (1908, 5),\n",
       " 'describe':        worldwide_gross  production_budget        Profit\n",
       " count     1.908000e+03       1.908000e+03  1.908000e+03\n",
       " mean      1.201366e+08       3.870225e+07  8.143435e+07\n",
       " std       2.235703e+08       5.224672e+07  1.844095e+08\n",
       " min       0.000000e+00       9.000000e+03 -1.104502e+08\n",
       " 25%       3.168816e+06       5.000000e+06 -1.743919e+06\n",
       " 50%       3.648161e+07       2.000000e+07  1.353161e+07\n",
       " 75%       1.266096e+08       5.000000e+07  7.757087e+07\n",
       " max       2.776345e+09       4.250000e+08  2.351345e+09,\n",
       " 'info': None}"
      ]
     },
     "execution_count": 27,
     "metadata": {},
     "output_type": "execute_result"
    }
   ],
   "source": [
    "check_dataframe_info(genre_and_revenue)"
   ]
  },
  {
   "cell_type": "markdown",
   "metadata": {},
   "source": [
    "We need now to replace the genre id with the actual genre name so that we are able to know which genre is which using the `apply` function ."
   ]
  },
  {
   "cell_type": "code",
   "execution_count": 28,
   "metadata": {},
   "outputs": [
    {
     "data": {
      "text/html": [
       "<div>\n",
       "<style scoped>\n",
       "    .dataframe tbody tr th:only-of-type {\n",
       "        vertical-align: middle;\n",
       "    }\n",
       "\n",
       "    .dataframe tbody tr th {\n",
       "        vertical-align: top;\n",
       "    }\n",
       "\n",
       "    .dataframe thead th {\n",
       "        text-align: right;\n",
       "    }\n",
       "</style>\n",
       "<table border=\"1\" class=\"dataframe\">\n",
       "  <thead>\n",
       "    <tr style=\"text-align: right;\">\n",
       "      <th></th>\n",
       "      <th>movie</th>\n",
       "      <th>genre_ids</th>\n",
       "      <th>worldwide_gross</th>\n",
       "      <th>production_budget</th>\n",
       "      <th>Profit</th>\n",
       "      <th>genres</th>\n",
       "    </tr>\n",
       "  </thead>\n",
       "  <tbody>\n",
       "    <tr>\n",
       "      <th>0</th>\n",
       "      <td>Avatar</td>\n",
       "      <td>[28, 12, 14, 878]</td>\n",
       "      <td>2.776345e+09</td>\n",
       "      <td>425000000.0</td>\n",
       "      <td>2.351345e+09</td>\n",
       "      <td>[Action, Adventure, Fantasy, Science Fiction]</td>\n",
       "    </tr>\n",
       "    <tr>\n",
       "      <th>1</th>\n",
       "      <td>Pirates of the Caribbean: On Stranger Tides</td>\n",
       "      <td>[12, 28, 14]</td>\n",
       "      <td>1.045664e+09</td>\n",
       "      <td>410600000.0</td>\n",
       "      <td>6.350639e+08</td>\n",
       "      <td>[Adventure, Action, Fantasy]</td>\n",
       "    </tr>\n",
       "    <tr>\n",
       "      <th>2</th>\n",
       "      <td>Avengers: Age of Ultron</td>\n",
       "      <td>[28, 12, 878]</td>\n",
       "      <td>1.403014e+09</td>\n",
       "      <td>330600000.0</td>\n",
       "      <td>1.072414e+09</td>\n",
       "      <td>[Action, Adventure, Science Fiction]</td>\n",
       "    </tr>\n",
       "    <tr>\n",
       "      <th>3</th>\n",
       "      <td>Avengers: Infinity War</td>\n",
       "      <td>[12, 28, 14]</td>\n",
       "      <td>2.048134e+09</td>\n",
       "      <td>300000000.0</td>\n",
       "      <td>1.748134e+09</td>\n",
       "      <td>[Adventure, Action, Fantasy]</td>\n",
       "    </tr>\n",
       "    <tr>\n",
       "      <th>4</th>\n",
       "      <td>Justice League</td>\n",
       "      <td>[28, 12, 14, 878]</td>\n",
       "      <td>6.559452e+08</td>\n",
       "      <td>300000000.0</td>\n",
       "      <td>3.559452e+08</td>\n",
       "      <td>[Action, Adventure, Fantasy, Science Fiction]</td>\n",
       "    </tr>\n",
       "  </tbody>\n",
       "</table>\n",
       "</div>"
      ],
      "text/plain": [
       "                                         movie          genre_ids  \\\n",
       "0                                       Avatar  [28, 12, 14, 878]   \n",
       "1  Pirates of the Caribbean: On Stranger Tides       [12, 28, 14]   \n",
       "2                      Avengers: Age of Ultron      [28, 12, 878]   \n",
       "3                       Avengers: Infinity War       [12, 28, 14]   \n",
       "4                               Justice League  [28, 12, 14, 878]   \n",
       "\n",
       "   worldwide_gross  production_budget        Profit  \\\n",
       "0     2.776345e+09        425000000.0  2.351345e+09   \n",
       "1     1.045664e+09        410600000.0  6.350639e+08   \n",
       "2     1.403014e+09        330600000.0  1.072414e+09   \n",
       "3     2.048134e+09        300000000.0  1.748134e+09   \n",
       "4     6.559452e+08        300000000.0  3.559452e+08   \n",
       "\n",
       "                                          genres  \n",
       "0  [Action, Adventure, Fantasy, Science Fiction]  \n",
       "1                   [Adventure, Action, Fantasy]  \n",
       "2           [Action, Adventure, Science Fiction]  \n",
       "3                   [Adventure, Action, Fantasy]  \n",
       "4  [Action, Adventure, Fantasy, Science Fiction]  "
      ]
     },
     "execution_count": 28,
     "metadata": {},
     "output_type": "execute_result"
    }
   ],
   "source": [
    "#We have to replace the genre ids with the actual genres for the movies\n",
    "\n",
    "genre_mapping = {\n",
    "    28: 'Action',\n",
    "    12: 'Adventure',\n",
    "    14: 'Fantasy',\n",
    "    878: 'Science Fiction',\n",
    "    80: 'Crime',\n",
    "    53: 'Thriller',\n",
    "    16: 'Animation',\n",
    "    10751: 'Family',\n",
    "    35: 'Comedy',\n",
    "    18: 'Drama',\n",
    "    37: 'Western',\n",
    "    10749: 'Romance',\n",
    "    27: 'Horror',\n",
    "    9648: 'Mystery',\n",
    "    10402: 'Music',\n",
    "    99: 'Documentary'\n",
    "}\n",
    "\n",
    "\n",
    "genre_and_revenue['genres'] = genre_and_revenue['genre_ids'].apply(lambda x: [genre_mapping.get(int(i)) for i in x.strip('[]').split(',') if i])\n",
    "\n",
    "\n",
    "genre_and_revenue.head()\n",
    "\n",
    "\n"
   ]
  },
  {
   "cell_type": "markdown",
   "metadata": {},
   "source": [
    "Now that we have been able to replace the genre ids with the genre names we want to see the count of the different ids so that we can know how many movies they have."
   ]
  },
  {
   "cell_type": "code",
   "execution_count": 29,
   "metadata": {},
   "outputs": [
    {
     "name": "stdout",
     "output_type": "stream",
     "text": [
      "Drama              863\n",
      "Comedy             580\n",
      "Thriller           520\n",
      "Action             465\n",
      "Adventure          298\n",
      "Horror             260\n",
      "Crime              243\n",
      "Romance            228\n",
      "Science Fiction    214\n",
      "Family             188\n",
      "Fantasy            177\n",
      "Mystery            139\n",
      "Animation          125\n",
      "Documentary         64\n",
      "Music               47\n",
      "Western             24\n",
      "Name: genres, dtype: int64\n"
     ]
    }
   ],
   "source": [
    "# Explode the lists in the 'genres' column\n",
    "genre_and_revenue_exploded = genre_and_revenue.explode('genres')\n",
    "\n",
    "# Count the values in the 'genres' column\n",
    "genre_counts = genre_and_revenue_exploded['genres'].value_counts()\n",
    "\n",
    "# Display the genre counts\n",
    "print(genre_counts)"
   ]
  },
  {
   "cell_type": "markdown",
   "metadata": {},
   "source": [
    "Now that we have successfully created a `genres` column now we can be able to continue with our analysis and group by the data using the genres column"
   ]
  },
  {
   "cell_type": "code",
   "execution_count": 30,
   "metadata": {},
   "outputs": [
    {
     "data": {
      "text/html": [
       "<div>\n",
       "<style scoped>\n",
       "    .dataframe tbody tr th:only-of-type {\n",
       "        vertical-align: middle;\n",
       "    }\n",
       "\n",
       "    .dataframe tbody tr th {\n",
       "        vertical-align: top;\n",
       "    }\n",
       "\n",
       "    .dataframe thead th {\n",
       "        text-align: right;\n",
       "    }\n",
       "</style>\n",
       "<table border=\"1\" class=\"dataframe\">\n",
       "  <thead>\n",
       "    <tr style=\"text-align: right;\">\n",
       "      <th></th>\n",
       "      <th>genres</th>\n",
       "      <th>worldwide_gross</th>\n",
       "      <th>Profit</th>\n",
       "    </tr>\n",
       "  </thead>\n",
       "  <tbody>\n",
       "    <tr>\n",
       "      <th>0</th>\n",
       "      <td>Action</td>\n",
       "      <td>2.376999e+08</td>\n",
       "      <td>1.604274e+08</td>\n",
       "    </tr>\n",
       "    <tr>\n",
       "      <th>1</th>\n",
       "      <td>Adventure</td>\n",
       "      <td>3.489077e+08</td>\n",
       "      <td>2.430580e+08</td>\n",
       "    </tr>\n",
       "    <tr>\n",
       "      <th>2</th>\n",
       "      <td>Animation</td>\n",
       "      <td>3.237747e+08</td>\n",
       "      <td>2.418635e+08</td>\n",
       "    </tr>\n",
       "    <tr>\n",
       "      <th>3</th>\n",
       "      <td>Comedy</td>\n",
       "      <td>1.187455e+08</td>\n",
       "      <td>8.345633e+07</td>\n",
       "    </tr>\n",
       "    <tr>\n",
       "      <th>4</th>\n",
       "      <td>Crime</td>\n",
       "      <td>9.528684e+07</td>\n",
       "      <td>6.092358e+07</td>\n",
       "    </tr>\n",
       "    <tr>\n",
       "      <th>5</th>\n",
       "      <td>Documentary</td>\n",
       "      <td>5.025758e+07</td>\n",
       "      <td>3.216180e+07</td>\n",
       "    </tr>\n",
       "    <tr>\n",
       "      <th>6</th>\n",
       "      <td>Drama</td>\n",
       "      <td>7.094433e+07</td>\n",
       "      <td>4.541753e+07</td>\n",
       "    </tr>\n",
       "    <tr>\n",
       "      <th>7</th>\n",
       "      <td>Family</td>\n",
       "      <td>2.702646e+08</td>\n",
       "      <td>1.926481e+08</td>\n",
       "    </tr>\n",
       "    <tr>\n",
       "      <th>8</th>\n",
       "      <td>Fantasy</td>\n",
       "      <td>3.059378e+08</td>\n",
       "      <td>2.097191e+08</td>\n",
       "    </tr>\n",
       "    <tr>\n",
       "      <th>9</th>\n",
       "      <td>Horror</td>\n",
       "      <td>5.826178e+07</td>\n",
       "      <td>4.051170e+07</td>\n",
       "    </tr>\n",
       "    <tr>\n",
       "      <th>10</th>\n",
       "      <td>Music</td>\n",
       "      <td>8.140021e+07</td>\n",
       "      <td>5.564489e+07</td>\n",
       "    </tr>\n",
       "    <tr>\n",
       "      <th>11</th>\n",
       "      <td>Mystery</td>\n",
       "      <td>7.968625e+07</td>\n",
       "      <td>5.289367e+07</td>\n",
       "    </tr>\n",
       "    <tr>\n",
       "      <th>12</th>\n",
       "      <td>Romance</td>\n",
       "      <td>7.455444e+07</td>\n",
       "      <td>5.066915e+07</td>\n",
       "    </tr>\n",
       "    <tr>\n",
       "      <th>13</th>\n",
       "      <td>Science Fiction</td>\n",
       "      <td>2.593313e+08</td>\n",
       "      <td>1.803990e+08</td>\n",
       "    </tr>\n",
       "    <tr>\n",
       "      <th>14</th>\n",
       "      <td>Thriller</td>\n",
       "      <td>9.479149e+07</td>\n",
       "      <td>6.234769e+07</td>\n",
       "    </tr>\n",
       "    <tr>\n",
       "      <th>15</th>\n",
       "      <td>Western</td>\n",
       "      <td>9.476243e+07</td>\n",
       "      <td>4.506243e+07</td>\n",
       "    </tr>\n",
       "  </tbody>\n",
       "</table>\n",
       "</div>"
      ],
      "text/plain": [
       "             genres  worldwide_gross        Profit\n",
       "0            Action     2.376999e+08  1.604274e+08\n",
       "1         Adventure     3.489077e+08  2.430580e+08\n",
       "2         Animation     3.237747e+08  2.418635e+08\n",
       "3            Comedy     1.187455e+08  8.345633e+07\n",
       "4             Crime     9.528684e+07  6.092358e+07\n",
       "5       Documentary     5.025758e+07  3.216180e+07\n",
       "6             Drama     7.094433e+07  4.541753e+07\n",
       "7            Family     2.702646e+08  1.926481e+08\n",
       "8           Fantasy     3.059378e+08  2.097191e+08\n",
       "9            Horror     5.826178e+07  4.051170e+07\n",
       "10            Music     8.140021e+07  5.564489e+07\n",
       "11          Mystery     7.968625e+07  5.289367e+07\n",
       "12          Romance     7.455444e+07  5.066915e+07\n",
       "13  Science Fiction     2.593313e+08  1.803990e+08\n",
       "14         Thriller     9.479149e+07  6.234769e+07\n",
       "15          Western     9.476243e+07  4.506243e+07"
      ]
     },
     "execution_count": 30,
     "metadata": {},
     "output_type": "execute_result"
    }
   ],
   "source": [
    "# Explode the lists in the 'genres' column into separate rows\n",
    "genre_and_revenue = genre_and_revenue.explode('genres')\n",
    "\n",
    "# Group data by movie genre and calculate relevant metrics (e.g., median)\n",
    "genre_metrics = genre_and_revenue.groupby('genres')[['worldwide_gross',\"Profit\"]].mean().reset_index()\n",
    "\n",
    "genre_metrics"
   ]
  },
  {
   "cell_type": "markdown",
   "metadata": {},
   "source": [
    "Now we can proceed and plot the barplot of the above information side by side so as to see if they are similar or not."
   ]
  },
  {
   "cell_type": "code",
   "execution_count": 31,
   "metadata": {},
   "outputs": [
    {
     "data": {
      "image/png": "[encoded data removed]",
      "text/plain": [
       "<Figure size 864x288 with 2 Axes>"
      ]
     },
     "metadata": {
      "needs_background": "light"
     },
     "output_type": "display_data"
    }
   ],
   "source": [
    "# Sort the DataFrame by 'Worldwide Gross' and 'Profit' in descending order\n",
    "genre_metrics = genre_metrics.sort_values(by=['worldwide_gross', 'Profit'], ascending=False)\n",
    "\n",
    "# Create a figure with two subplots (1 row, 2 columns)\n",
    "fig, (ax1, ax2) = plt.subplots(1, 2, figsize=(12, 4))\n",
    "\n",
    "# Plot 'Worldwide Gross' on the first subplot\n",
    "sns.set(style=\"dark\")\n",
    "sns.barplot(x=genre_metrics[\"worldwide_gross\"], y=genre_metrics[\"genres\"], data=genre_metrics, color='skyblue', ax=ax1)\n",
    "ax1.set_xlabel('Worldwide Gross')\n",
    "ax1.set_ylabel('Genre')\n",
    "ax1.set_title('Worldwide Gross by Genre')\n",
    "\n",
    "# Plot 'Profit' on the second subplot\n",
    "sns.set(style=\"dark\")\n",
    "sns.barplot(x=genre_metrics['Profit'], y=genre_metrics[\"genres\"], data=genre_metrics, color='orange', ax=ax2, order=genre_metrics.sort_values(by='Profit', ascending=False)['genres'])\n",
    "ax2.set_xlabel('Profit')\n",
    "ax2.set_ylabel('Genre')\n",
    "ax2.set_title('Profit by Genre')\n",
    "\n",
    "# Adjust spacing between subplots\n",
    "plt.tight_layout()\n",
    "\n",
    "fig.savefig(\"images/bargraph.png\")\n",
    "# Show the plots\n",
    "plt.show()\n"
   ]
  },
  {
   "cell_type": "markdown",
   "metadata": {},
   "source": [
    "The above plots clearly show how the genres are distributed in terms of revenue and profit showing that Adventure is the most profitable genre whereas Documentaries are not as profitable in this metric"
   ]
  },
  {
   "cell_type": "markdown",
   "metadata": {},
   "source": [
    "## Q3:  To Analyze the Impact of Release Date on Box Office Performance\n",
    "Here we want to explore how the timing of a movie's release (e.g., seasonal trends, holiday releases) impacts its box office revenue.\n"
   ]
  },
  {
   "cell_type": "code",
   "execution_count": 32,
   "metadata": {},
   "outputs": [
    {
     "data": {
      "text/plain": [
       "Index(['movie', 'production_budget', 'domestic_gross', 'worldwide_gross',\n",
       "       'genre_ids', 'release_date_y'],\n",
       "      dtype='object')"
      ]
     },
     "execution_count": 32,
     "metadata": {},
     "output_type": "execute_result"
    }
   ],
   "source": [
    "merged_data.columns"
   ]
  },
  {
   "cell_type": "code",
   "execution_count": 33,
   "metadata": {},
   "outputs": [
    {
     "data": {
      "text/html": [
       "<div>\n",
       "<style scoped>\n",
       "    .dataframe tbody tr th:only-of-type {\n",
       "        vertical-align: middle;\n",
       "    }\n",
       "\n",
       "    .dataframe tbody tr th {\n",
       "        vertical-align: top;\n",
       "    }\n",
       "\n",
       "    .dataframe thead th {\n",
       "        text-align: right;\n",
       "    }\n",
       "</style>\n",
       "<table border=\"1\" class=\"dataframe\">\n",
       "  <thead>\n",
       "    <tr style=\"text-align: right;\">\n",
       "      <th></th>\n",
       "      <th>movie</th>\n",
       "      <th>release_date_y</th>\n",
       "      <th>worldwide_gross</th>\n",
       "    </tr>\n",
       "  </thead>\n",
       "  <tbody>\n",
       "    <tr>\n",
       "      <th>0</th>\n",
       "      <td>Avatar</td>\n",
       "      <td>2009-12-18</td>\n",
       "      <td>2.776345e+09</td>\n",
       "    </tr>\n",
       "    <tr>\n",
       "      <th>1</th>\n",
       "      <td>Pirates of the Caribbean: On Stranger Tides</td>\n",
       "      <td>2011-05-20</td>\n",
       "      <td>1.045664e+09</td>\n",
       "    </tr>\n",
       "    <tr>\n",
       "      <th>2</th>\n",
       "      <td>Avengers: Age of Ultron</td>\n",
       "      <td>2015-05-01</td>\n",
       "      <td>1.403014e+09</td>\n",
       "    </tr>\n",
       "    <tr>\n",
       "      <th>3</th>\n",
       "      <td>Avengers: Infinity War</td>\n",
       "      <td>2018-04-27</td>\n",
       "      <td>2.048134e+09</td>\n",
       "    </tr>\n",
       "    <tr>\n",
       "      <th>4</th>\n",
       "      <td>Justice League</td>\n",
       "      <td>2017-11-17</td>\n",
       "      <td>6.559452e+08</td>\n",
       "    </tr>\n",
       "  </tbody>\n",
       "</table>\n",
       "</div>"
      ],
      "text/plain": [
       "                                         movie release_date_y  worldwide_gross\n",
       "0                                       Avatar     2009-12-18     2.776345e+09\n",
       "1  Pirates of the Caribbean: On Stranger Tides     2011-05-20     1.045664e+09\n",
       "2                      Avengers: Age of Ultron     2015-05-01     1.403014e+09\n",
       "3                       Avengers: Infinity War     2018-04-27     2.048134e+09\n",
       "4                               Justice League     2017-11-17     6.559452e+08"
      ]
     },
     "execution_count": 33,
     "metadata": {},
     "output_type": "execute_result"
    }
   ],
   "source": [
    "time_and_revenue = merged_data.copy()\n",
    "\n",
    "time_and_revenue = time_and_revenue[[\"movie\",\"release_date_y\",\"worldwide_gross\"]]\n",
    "time_and_revenue.head()"
   ]
  },
  {
   "cell_type": "code",
   "execution_count": 34,
   "metadata": {},
   "outputs": [
    {
     "name": "stdout",
     "output_type": "stream",
     "text": [
      "<class 'pandas.core.frame.DataFrame'>\n",
      "Int64Index: 1908 entries, 0 to 2315\n",
      "Data columns (total 3 columns):\n",
      " #   Column           Non-Null Count  Dtype  \n",
      "---  ------           --------------  -----  \n",
      " 0   movie            1908 non-null   object \n",
      " 1   release_date_y   1908 non-null   object \n",
      " 2   worldwide_gross  1908 non-null   float64\n",
      "dtypes: float64(1), object(2)\n",
      "memory usage: 59.6+ KB\n"
     ]
    },
    {
     "data": {
      "text/plain": [
       "{'shape': (1908, 3),\n",
       " 'describe':        worldwide_gross\n",
       " count     1.908000e+03\n",
       " mean      1.201366e+08\n",
       " std       2.235703e+08\n",
       " min       0.000000e+00\n",
       " 25%       3.168816e+06\n",
       " 50%       3.648161e+07\n",
       " 75%       1.266096e+08\n",
       " max       2.776345e+09,\n",
       " 'info': None}"
      ]
     },
     "execution_count": 34,
     "metadata": {},
     "output_type": "execute_result"
    }
   ],
   "source": [
    "check_dataframe_info(time_and_revenue)"
   ]
  },
  {
   "cell_type": "markdown",
   "metadata": {},
   "source": [
    "Using the information above we want to convert the data type of release date from object to date time so as to be able to work well with it for the analysis."
   ]
  },
  {
   "cell_type": "code",
   "execution_count": 35,
   "metadata": {},
   "outputs": [
    {
     "data": {
      "text/html": [
       "<div>\n",
       "<style scoped>\n",
       "    .dataframe tbody tr th:only-of-type {\n",
       "        vertical-align: middle;\n",
       "    }\n",
       "\n",
       "    .dataframe tbody tr th {\n",
       "        vertical-align: top;\n",
       "    }\n",
       "\n",
       "    .dataframe thead th {\n",
       "        text-align: right;\n",
       "    }\n",
       "</style>\n",
       "<table border=\"1\" class=\"dataframe\">\n",
       "  <thead>\n",
       "    <tr style=\"text-align: right;\">\n",
       "      <th></th>\n",
       "      <th>movie</th>\n",
       "      <th>worldwide_gross</th>\n",
       "      <th>release_date</th>\n",
       "    </tr>\n",
       "  </thead>\n",
       "  <tbody>\n",
       "    <tr>\n",
       "      <th>0</th>\n",
       "      <td>Avatar</td>\n",
       "      <td>2.776345e+09</td>\n",
       "      <td>2009-12-18</td>\n",
       "    </tr>\n",
       "    <tr>\n",
       "      <th>1</th>\n",
       "      <td>Pirates of the Caribbean: On Stranger Tides</td>\n",
       "      <td>1.045664e+09</td>\n",
       "      <td>2011-05-20</td>\n",
       "    </tr>\n",
       "    <tr>\n",
       "      <th>2</th>\n",
       "      <td>Avengers: Age of Ultron</td>\n",
       "      <td>1.403014e+09</td>\n",
       "      <td>2015-05-01</td>\n",
       "    </tr>\n",
       "    <tr>\n",
       "      <th>3</th>\n",
       "      <td>Avengers: Infinity War</td>\n",
       "      <td>2.048134e+09</td>\n",
       "      <td>2018-04-27</td>\n",
       "    </tr>\n",
       "    <tr>\n",
       "      <th>4</th>\n",
       "      <td>Justice League</td>\n",
       "      <td>6.559452e+08</td>\n",
       "      <td>2017-11-17</td>\n",
       "    </tr>\n",
       "    <tr>\n",
       "      <th>...</th>\n",
       "      <td>...</td>\n",
       "      <td>...</td>\n",
       "      <td>...</td>\n",
       "    </tr>\n",
       "    <tr>\n",
       "      <th>2311</th>\n",
       "      <td>Exeter</td>\n",
       "      <td>4.897920e+05</td>\n",
       "      <td>2015-03-26</td>\n",
       "    </tr>\n",
       "    <tr>\n",
       "      <th>2312</th>\n",
       "      <td>Ten</td>\n",
       "      <td>0.000000e+00</td>\n",
       "      <td>2014-03-28</td>\n",
       "    </tr>\n",
       "    <tr>\n",
       "      <th>2313</th>\n",
       "      <td>Dry Spell</td>\n",
       "      <td>0.000000e+00</td>\n",
       "      <td>2013-02-14</td>\n",
       "    </tr>\n",
       "    <tr>\n",
       "      <th>2314</th>\n",
       "      <td>All Superheroes Must Die</td>\n",
       "      <td>0.000000e+00</td>\n",
       "      <td>2013-01-04</td>\n",
       "    </tr>\n",
       "    <tr>\n",
       "      <th>2315</th>\n",
       "      <td>Newlyweds</td>\n",
       "      <td>4.584000e+03</td>\n",
       "      <td>2011-12-26</td>\n",
       "    </tr>\n",
       "  </tbody>\n",
       "</table>\n",
       "<p>1908 rows × 3 columns</p>\n",
       "</div>"
      ],
      "text/plain": [
       "                                            movie  worldwide_gross  \\\n",
       "0                                          Avatar     2.776345e+09   \n",
       "1     Pirates of the Caribbean: On Stranger Tides     1.045664e+09   \n",
       "2                         Avengers: Age of Ultron     1.403014e+09   \n",
       "3                          Avengers: Infinity War     2.048134e+09   \n",
       "4                                  Justice League     6.559452e+08   \n",
       "...                                           ...              ...   \n",
       "2311                                       Exeter     4.897920e+05   \n",
       "2312                                          Ten     0.000000e+00   \n",
       "2313                                    Dry Spell     0.000000e+00   \n",
       "2314                     All Superheroes Must Die     0.000000e+00   \n",
       "2315                                    Newlyweds     4.584000e+03   \n",
       "\n",
       "     release_date  \n",
       "0      2009-12-18  \n",
       "1      2011-05-20  \n",
       "2      2015-05-01  \n",
       "3      2018-04-27  \n",
       "4      2017-11-17  \n",
       "...           ...  \n",
       "2311   2015-03-26  \n",
       "2312   2014-03-28  \n",
       "2313   2013-02-14  \n",
       "2314   2013-01-04  \n",
       "2315   2011-12-26  \n",
       "\n",
       "[1908 rows x 3 columns]"
      ]
     },
     "execution_count": 35,
     "metadata": {},
     "output_type": "execute_result"
    }
   ],
   "source": [
    "#convert to date time the dataframe and renameit\n",
    "\n",
    "time_and_revenue[\"release_date\"] = pd.to_datetime(time_and_revenue[\"release_date_y\"])\n",
    "time_and_revenue.drop(\"release_date_y\",axis=1,inplace=True)\n",
    "\n",
    "time_and_revenue"
   ]
  },
  {
   "cell_type": "code",
   "execution_count": 36,
   "metadata": {},
   "outputs": [
    {
     "name": "stdout",
     "output_type": "stream",
     "text": [
      "<class 'pandas.core.frame.DataFrame'>\n",
      "Int64Index: 1908 entries, 0 to 2315\n",
      "Data columns (total 3 columns):\n",
      " #   Column           Non-Null Count  Dtype         \n",
      "---  ------           --------------  -----         \n",
      " 0   movie            1908 non-null   object        \n",
      " 1   worldwide_gross  1908 non-null   float64       \n",
      " 2   release_date     1908 non-null   datetime64[ns]\n",
      "dtypes: datetime64[ns](1), float64(1), object(1)\n",
      "memory usage: 59.6+ KB\n"
     ]
    },
    {
     "data": {
      "text/plain": [
       "{'shape': (1908, 3),\n",
       " 'describe':        worldwide_gross\n",
       " count     1.908000e+03\n",
       " mean      1.201366e+08\n",
       " std       2.235703e+08\n",
       " min       0.000000e+00\n",
       " 25%       3.168816e+06\n",
       " 50%       3.648161e+07\n",
       " 75%       1.266096e+08\n",
       " max       2.776345e+09,\n",
       " 'info': None}"
      ]
     },
     "execution_count": 36,
     "metadata": {},
     "output_type": "execute_result"
    }
   ],
   "source": [
    "check_dataframe_info(time_and_revenue)"
   ]
  },
  {
   "cell_type": "markdown",
   "metadata": {},
   "source": [
    "Since we want to be able to check the trends in our data we wan to specifically use the release months so that we can be able to see the trend of the revenue sales and be able to derive the seasonality from the months\n"
   ]
  },
  {
   "cell_type": "code",
   "execution_count": 37,
   "metadata": {},
   "outputs": [
    {
     "data": {
      "text/html": [
       "<div>\n",
       "<style scoped>\n",
       "    .dataframe tbody tr th:only-of-type {\n",
       "        vertical-align: middle;\n",
       "    }\n",
       "\n",
       "    .dataframe tbody tr th {\n",
       "        vertical-align: top;\n",
       "    }\n",
       "\n",
       "    .dataframe thead th {\n",
       "        text-align: right;\n",
       "    }\n",
       "</style>\n",
       "<table border=\"1\" class=\"dataframe\">\n",
       "  <thead>\n",
       "    <tr style=\"text-align: right;\">\n",
       "      <th></th>\n",
       "      <th>movie</th>\n",
       "      <th>worldwide_gross</th>\n",
       "      <th>release_date</th>\n",
       "      <th>Release_Month</th>\n",
       "    </tr>\n",
       "  </thead>\n",
       "  <tbody>\n",
       "    <tr>\n",
       "      <th>0</th>\n",
       "      <td>Avatar</td>\n",
       "      <td>2.776345e+09</td>\n",
       "      <td>2009-12-18</td>\n",
       "      <td>12</td>\n",
       "    </tr>\n",
       "    <tr>\n",
       "      <th>1</th>\n",
       "      <td>Pirates of the Caribbean: On Stranger Tides</td>\n",
       "      <td>1.045664e+09</td>\n",
       "      <td>2011-05-20</td>\n",
       "      <td>5</td>\n",
       "    </tr>\n",
       "    <tr>\n",
       "      <th>2</th>\n",
       "      <td>Avengers: Age of Ultron</td>\n",
       "      <td>1.403014e+09</td>\n",
       "      <td>2015-05-01</td>\n",
       "      <td>5</td>\n",
       "    </tr>\n",
       "    <tr>\n",
       "      <th>3</th>\n",
       "      <td>Avengers: Infinity War</td>\n",
       "      <td>2.048134e+09</td>\n",
       "      <td>2018-04-27</td>\n",
       "      <td>4</td>\n",
       "    </tr>\n",
       "    <tr>\n",
       "      <th>4</th>\n",
       "      <td>Justice League</td>\n",
       "      <td>6.559452e+08</td>\n",
       "      <td>2017-11-17</td>\n",
       "      <td>11</td>\n",
       "    </tr>\n",
       "  </tbody>\n",
       "</table>\n",
       "</div>"
      ],
      "text/plain": [
       "                                         movie  worldwide_gross release_date  \\\n",
       "0                                       Avatar     2.776345e+09   2009-12-18   \n",
       "1  Pirates of the Caribbean: On Stranger Tides     1.045664e+09   2011-05-20   \n",
       "2                      Avengers: Age of Ultron     1.403014e+09   2015-05-01   \n",
       "3                       Avengers: Infinity War     2.048134e+09   2018-04-27   \n",
       "4                               Justice League     6.559452e+08   2017-11-17   \n",
       "\n",
       "   Release_Month  \n",
       "0             12  \n",
       "1              5  \n",
       "2              5  \n",
       "3              4  \n",
       "4             11  "
      ]
     },
     "execution_count": 37,
     "metadata": {},
     "output_type": "execute_result"
    }
   ],
   "source": [
    "time_and_revenue[\"Release_Month\"] = time_and_revenue[\"release_date\"].dt.month\n",
    "time_and_revenue.head()"
   ]
  },
  {
   "cell_type": "code",
   "execution_count": 38,
   "metadata": {},
   "outputs": [
    {
     "data": {
      "text/html": [
       "<div>\n",
       "<style scoped>\n",
       "    .dataframe tbody tr th:only-of-type {\n",
       "        vertical-align: middle;\n",
       "    }\n",
       "\n",
       "    .dataframe tbody tr th {\n",
       "        vertical-align: top;\n",
       "    }\n",
       "\n",
       "    .dataframe thead th {\n",
       "        text-align: right;\n",
       "    }\n",
       "</style>\n",
       "<table border=\"1\" class=\"dataframe\">\n",
       "  <thead>\n",
       "    <tr style=\"text-align: right;\">\n",
       "      <th></th>\n",
       "      <th>movie</th>\n",
       "      <th>worldwide_gross</th>\n",
       "      <th>release_date</th>\n",
       "      <th>Release_Month</th>\n",
       "    </tr>\n",
       "  </thead>\n",
       "  <tbody>\n",
       "    <tr>\n",
       "      <th>0</th>\n",
       "      <td>Avatar</td>\n",
       "      <td>2.776345e+09</td>\n",
       "      <td>2009-12-18</td>\n",
       "      <td>December</td>\n",
       "    </tr>\n",
       "    <tr>\n",
       "      <th>1</th>\n",
       "      <td>Pirates of the Caribbean: On Stranger Tides</td>\n",
       "      <td>1.045664e+09</td>\n",
       "      <td>2011-05-20</td>\n",
       "      <td>May</td>\n",
       "    </tr>\n",
       "    <tr>\n",
       "      <th>2</th>\n",
       "      <td>Avengers: Age of Ultron</td>\n",
       "      <td>1.403014e+09</td>\n",
       "      <td>2015-05-01</td>\n",
       "      <td>May</td>\n",
       "    </tr>\n",
       "    <tr>\n",
       "      <th>3</th>\n",
       "      <td>Avengers: Infinity War</td>\n",
       "      <td>2.048134e+09</td>\n",
       "      <td>2018-04-27</td>\n",
       "      <td>April</td>\n",
       "    </tr>\n",
       "    <tr>\n",
       "      <th>4</th>\n",
       "      <td>Justice League</td>\n",
       "      <td>6.559452e+08</td>\n",
       "      <td>2017-11-17</td>\n",
       "      <td>November</td>\n",
       "    </tr>\n",
       "  </tbody>\n",
       "</table>\n",
       "</div>"
      ],
      "text/plain": [
       "                                         movie  worldwide_gross release_date  \\\n",
       "0                                       Avatar     2.776345e+09   2009-12-18   \n",
       "1  Pirates of the Caribbean: On Stranger Tides     1.045664e+09   2011-05-20   \n",
       "2                      Avengers: Age of Ultron     1.403014e+09   2015-05-01   \n",
       "3                       Avengers: Infinity War     2.048134e+09   2018-04-27   \n",
       "4                               Justice League     6.559452e+08   2017-11-17   \n",
       "\n",
       "  Release_Month  \n",
       "0      December  \n",
       "1           May  \n",
       "2           May  \n",
       "3         April  \n",
       "4      November  "
      ]
     },
     "execution_count": 38,
     "metadata": {},
     "output_type": "execute_result"
    }
   ],
   "source": [
    "# Define a dictionary to map numerical months to month names\n",
    "month_mapping = {\n",
    "    1: 'January',\n",
    "    2: 'February',\n",
    "    3: 'March',\n",
    "    4: 'April',\n",
    "    5: 'May',\n",
    "    6: 'June',\n",
    "    7: 'July',\n",
    "    8: 'August',\n",
    "    9: 'September',\n",
    "    10: 'October',\n",
    "    11: 'November',\n",
    "    12: 'December'\n",
    "}\n",
    "\n",
    "# Map the 'Release_Month' column to month names\n",
    "time_and_revenue['Release_Month'] = time_and_revenue['Release_Month'].map(month_mapping)\n",
    "\n",
    "time_and_revenue.head()"
   ]
  },
  {
   "cell_type": "markdown",
   "metadata": {},
   "source": [
    "Here we are using a boxplot so as to be able to clooect a lot more information that will be able to guide us into picking up the best months for releasing the movies.\n",
    "Different factors such as median revenue and variability are shown in the boxplot so a good option for this study"
   ]
  },
  {
   "cell_type": "code",
   "execution_count": 39,
   "metadata": {},
   "outputs": [
    {
     "data": {
      "image/png": "[encoded data removed]",
      "text/plain": [
       "<Figure size 720x432 with 1 Axes>"
      ]
     },
     "metadata": {},
     "output_type": "display_data"
    }
   ],
   "source": [
    "# Create a boxplot to visualize the distribution\n",
    "\n",
    "plt.figure(figsize=(10, 6))\n",
    "sns.boxplot(data=time_and_revenue, x='Release_Month', y='worldwide_gross')\n",
    "plt.xlabel('Release Month')\n",
    "plt.ylabel('Mean Worldwide Gross Revenue')\n",
    "plt.title('Distribution of Mean Worldwide Gross Revenue by Release Month')\n",
    "plt.xticks(rotation=90)  # Rotate x-axis labels for better readability\n",
    "plt.savefig(\"images/boxplot.png\")\n",
    "plt.show()\n",
    "\n",
    "\n"
   ]
  },
  {
   "cell_type": "markdown",
   "metadata": {},
   "source": [
    "The interperetaion for the above boxplots are as shown below ;"
   ]
  },
  {
   "cell_type": "markdown",
   "metadata": {},
   "source": [
    "Best Months for Releases: December, May, April, and November are optimal months for movie releases, thanks to their higher median revenue, even with outliers considered.\n",
    "\n",
    "Greater Variability: Months like May, July, and June have taller boxes, indicating more revenue variability, making success less predictable.\n",
    "\n",
    "Wider Revenue Range: Months with longer whiskers, including May, have a wider revenue range, suggesting greater performance variation.\n",
    "\n",
    "Outlier Investigation: Investigate months with data points beyond whiskers, like December, as potential outliers. For instance, Christmas movies in December can greatly boost revenue due to genre-specific factors.\n",
    "\n",
    "As for seasonality from the plots it is shown that the summer is a good time to release movies but specific months are better that others. So more information on the genre and audience type is required so as to accurately use this information to maximize revenues.\n",
    "\n",
    "In conclusion, understanding box office performance by release month is vital for movie production. Continuous outlier investigation and industry monitoring are key in this dynamic field."
   ]
  },
  {
   "cell_type": "markdown",
   "metadata": {},
   "source": [
    "## Conclusion\n",
    "\n",
    "The analysis conducted in this project yields valuable insights for Microsoft's entry into the film industry. Here are the key takeaways and recommendations:\n",
    "\n",
    "*1. Budget vs. Revenue Relationship:* The analysis indicates a positive correlation between production budgets and box office revenue and also profit suggesting that higher budgets can lead to greater earnings. However, this relationship is not necessarily causal, and careful budget allocation and cost management are essential. It is recommended that Microsoft consider allocating budgets strategically based on genre and release timing to maximize returns.\n",
    "\n",
    "\n",
    "*2. Genre-Based Revenue Performance:* Certain movie genres consistently generate higher box office revenue than others in this case adventure. Microsoft should consider producing films in genres that have demonstrated strong revenue performance in the analysis. However, audience preferences can change over time, so ongoing market research is necessary.\n",
    "\n",
    "*3. Release Timing Impact:* The timing of a movie's release has a significant impact on box office revenue. Microsoft should strategically plan release dates to leverage seasonal trends and optimize revenue potential. This requires a well-thought-out release calendar that considers competition and target audience.\n",
    "\n"
   ]
  },
  {
   "cell_type": "markdown",
   "metadata": {},
   "source": [
    "## Next Steps:\n",
    "\n",
    "Market Research: Conduct market research to understand current audience preferences, emerging genres, and evolving consumer behavior.\n",
    "\n",
    "Advanced Modeling: Consider advanced statistical models or machine learning techniques to build predictive models for box office performance.\n",
    "\n",
    "Collaboration: Partner with industry experts and consultants to gain deeper insights into the film market.\n",
    "\n",
    "Continuous Monitoring: Continuously monitor box office performance, adapt strategies, and make data-driven decisions based on real-time data."
   ]
  }
 ],
 "metadata": {
  "kernelspec": {
   "display_name": "Python (learn-env)",
   "language": "python",
   "name": "learn-env"
  },
  "language_info": {
   "codemirror_mode": {
    "name": "ipython",
    "version": 3
   },
   "file_extension": ".py",
   "mimetype": "text/x-python",
   "name": "python",
   "nbconvert_exporter": "python",
   "pygments_lexer": "ipython3",
   "version": "3.8.5"
  },
  "orig_nbformat": 4
 },
 "nbformat": 4,
 "nbformat_minor": 2
}
